{
 "cells": [
  {
   "cell_type": "markdown",
   "id": "5c940af6",
   "metadata": {},
   "source": [
    "Functional Group Class Testing and Visualization\n",
    "======================================="
   ]
  },
  {
   "cell_type": "code",
   "execution_count": 1,
   "id": "9465d764",
   "metadata": {},
   "outputs": [],
   "source": [
    "import warnings\n",
    "warnings.filterwarnings('ignore')\n",
    "\n",
    "import mbuild as mb\n",
    "import mbuild_polybuild.toolbox as tb\n",
    "from mbuild.lib.moieties import CH3\n",
    "from mbuild_polybuild.aa_functional_groups import Ester, Amide, Sulfonate, Ammonium\n",
    "from mbuild_polybuild.aa_monomers import Methacrylate, Acrylamide\n"
   ]
  },
  {
   "cell_type": "code",
   "execution_count": 2,
   "id": "8afc6576",
   "metadata": {},
   "outputs": [
    {
     "name": "stdout",
     "output_type": "stream",
     "text": [
      "_________________________\n",
      "<C pos=([0. 0. 0.]), 2 bonds, id: 5079198096>\n",
      "<O pos=([-0.1424 -0.0049  0.    ]), 1 bonds, id: 5096103568>\n",
      "<O pos=([0.0407 0.1364 0.    ]), 1 bonds, id: 5096102288>\n",
      "<Port, anchor: 'C', labels: ['port[0]'], id: 5079276112>\n",
      "<Port, anchor: 'O', labels: ['port[1]'], id: 5067301840>\n",
      "[<Port, anchor: 'C', labels: ['port[0]'], id: 5079276112>, <Port, anchor: 'O', labels: ['port[1]'], id: 5067301840>]\n"
     ]
    }
   ],
   "source": [
    "ester = Ester()\n",
    "\n",
    "print(\"_________________________\")\n",
    "for value in ester.children:\n",
    "    print(value)\n",
    "    \n",
    "print(ester.all_ports())"
   ]
  },
  {
   "cell_type": "code",
   "execution_count": 3,
   "id": "67b35cfa",
   "metadata": {},
   "outputs": [
    {
     "data": {
      "application/3dmoljs_load.v0": "<div id=\"3dmolviewer_1732108576065226\"  style=\"position: relative; width: 640px; height: 480px;\">\n        <p id=\"3dmolwarning_1732108576065226\" style=\"background-color:#ffcccc;color:black\">3Dmol.js failed to load for some reason.  Please check your browser console for error messages.<br></p>\n        </div>\n<script>\n\nvar loadScriptAsync = function(uri){\n  return new Promise((resolve, reject) => {\n    //this is to ignore the existence of requirejs amd\n    var savedexports, savedmodule;\n    if (typeof exports !== 'undefined') savedexports = exports;\n    else exports = {}\n    if (typeof module !== 'undefined') savedmodule = module;\n    else module = {}\n\n    var tag = document.createElement('script');\n    tag.src = uri;\n    tag.async = true;\n    tag.onload = () => {\n        exports = savedexports;\n        module = savedmodule;\n        resolve();\n    };\n  var firstScriptTag = document.getElementsByTagName('script')[0];\n  firstScriptTag.parentNode.insertBefore(tag, firstScriptTag);\n});\n};\n\nif(typeof $3Dmolpromise === 'undefined') {\n$3Dmolpromise = null;\n  $3Dmolpromise = loadScriptAsync('https://cdnjs.cloudflare.com/ajax/libs/3Dmol/2.4.2/3Dmol-min.js');\n}\n\nvar viewer_1732108576065226 = null;\nvar warn = document.getElementById(\"3dmolwarning_1732108576065226\");\nif(warn) {\n    warn.parentNode.removeChild(warn);\n}\n$3Dmolpromise.then(function() {\nviewer_1732108576065226 = $3Dmol.createViewer(document.getElementById(\"3dmolviewer_1732108576065226\"),{backgroundColor:\"white\"});\nviewer_1732108576065226.zoomTo();\n\tviewer_1732108576065226.addModel(\"@<TRIPOS>MOLECULE\\nRES\\n3 2 1 0 1\\nSMALL\\nNO_CHARGES\\n@<TRIPOS>CRYSIN\\n    6.8310     6.4130     6.0000    90.0000    90.0000    90.0000 1 1\\n@<TRIPOS>ATOM\\n       1 C            0.0000     0.0000     0.0000 C             1 RES     \\n       2 O           -1.4240    -0.0490     0.0000 O             1 RES     \\n       3 O            0.4070     1.3640     0.0000 O             1 RES     \\n@<TRIPOS>BOND\\n       1        1        2 1\\n       2        1        3 1\\n@<TRIPOS>SUBSTRUCTURE\\n       1 RES             1 RESIDUE    0 **** ROOT      0\\n\",\"mol2\");\n\tviewer_1732108576065226.setStyle({\"stick\": {\"radius\": 0.18, \"color\": \"grey\"}, \"sphere\": {\"scale\": 0.3, \"colorscheme\": {}}});\n\tviewer_1732108576065226.zoomTo();\nviewer_1732108576065226.render();\n});\n</script>",
      "text/html": [
       "<div id=\"3dmolviewer_1732108576065226\"  style=\"position: relative; width: 640px; height: 480px;\">\n",
       "        <p id=\"3dmolwarning_1732108576065226\" style=\"background-color:#ffcccc;color:black\">3Dmol.js failed to load for some reason.  Please check your browser console for error messages.<br></p>\n",
       "        </div>\n",
       "<script>\n",
       "\n",
       "var loadScriptAsync = function(uri){\n",
       "  return new Promise((resolve, reject) => {\n",
       "    //this is to ignore the existence of requirejs amd\n",
       "    var savedexports, savedmodule;\n",
       "    if (typeof exports !== 'undefined') savedexports = exports;\n",
       "    else exports = {}\n",
       "    if (typeof module !== 'undefined') savedmodule = module;\n",
       "    else module = {}\n",
       "\n",
       "    var tag = document.createElement('script');\n",
       "    tag.src = uri;\n",
       "    tag.async = true;\n",
       "    tag.onload = () => {\n",
       "        exports = savedexports;\n",
       "        module = savedmodule;\n",
       "        resolve();\n",
       "    };\n",
       "  var firstScriptTag = document.getElementsByTagName('script')[0];\n",
       "  firstScriptTag.parentNode.insertBefore(tag, firstScriptTag);\n",
       "});\n",
       "};\n",
       "\n",
       "if(typeof $3Dmolpromise === 'undefined') {\n",
       "$3Dmolpromise = null;\n",
       "  $3Dmolpromise = loadScriptAsync('https://cdnjs.cloudflare.com/ajax/libs/3Dmol/2.4.2/3Dmol-min.js');\n",
       "}\n",
       "\n",
       "var viewer_1732108576065226 = null;\n",
       "var warn = document.getElementById(\"3dmolwarning_1732108576065226\");\n",
       "if(warn) {\n",
       "    warn.parentNode.removeChild(warn);\n",
       "}\n",
       "$3Dmolpromise.then(function() {\n",
       "viewer_1732108576065226 = $3Dmol.createViewer(document.getElementById(\"3dmolviewer_1732108576065226\"),{backgroundColor:\"white\"});\n",
       "viewer_1732108576065226.zoomTo();\n",
       "\tviewer_1732108576065226.addModel(\"@<TRIPOS>MOLECULE\\nRES\\n3 2 1 0 1\\nSMALL\\nNO_CHARGES\\n@<TRIPOS>CRYSIN\\n    6.8310     6.4130     6.0000    90.0000    90.0000    90.0000 1 1\\n@<TRIPOS>ATOM\\n       1 C            0.0000     0.0000     0.0000 C             1 RES     \\n       2 O           -1.4240    -0.0490     0.0000 O             1 RES     \\n       3 O            0.4070     1.3640     0.0000 O             1 RES     \\n@<TRIPOS>BOND\\n       1        1        2 1\\n       2        1        3 1\\n@<TRIPOS>SUBSTRUCTURE\\n       1 RES             1 RESIDUE    0 **** ROOT      0\\n\",\"mol2\");\n",
       "\tviewer_1732108576065226.setStyle({\"stick\": {\"radius\": 0.18, \"color\": \"grey\"}, \"sphere\": {\"scale\": 0.3, \"colorscheme\": {}}});\n",
       "\tviewer_1732108576065226.zoomTo();\n",
       "viewer_1732108576065226.render();\n",
       "});\n",
       "</script>"
      ]
     },
     "metadata": {},
     "output_type": "display_data"
    },
    {
     "data": {
      "text/plain": [
       "<py3Dmol.view at 0x106754790>"
      ]
     },
     "execution_count": 3,
     "metadata": {},
     "output_type": "execute_result"
    }
   ],
   "source": [
    "ester.visualize(show_ports=True)"
   ]
  },
  {
   "cell_type": "code",
   "execution_count": 4,
   "id": "f0842ed8",
   "metadata": {},
   "outputs": [
    {
     "data": {
      "text/plain": [
       "[<Port, anchor: 'C', labels: ['port[0]'], id: 5079276112>,\n",
       " <Port, anchor: 'O', labels: ['port[1]'], id: 5067301840>]"
      ]
     },
     "execution_count": 4,
     "metadata": {},
     "output_type": "execute_result"
    }
   ],
   "source": [
    "ch3_1new = CH3()\n",
    "ch3_2new = CH3()\n",
    "\n",
    "ch3_1new.all_ports()\n",
    "ester.all_ports()"
   ]
  },
  {
   "cell_type": "code",
   "execution_count": 5,
   "id": "40e877fd",
   "metadata": {},
   "outputs": [
    {
     "name": "stdout",
     "output_type": "stream",
     "text": [
      "\n",
      " ['C', 'C[0]', 'H', 'H[0]', 'H[1]', 'H[2]', 'up']\n",
      "['C', 'C[0]', 'H', 'H[0]', 'H[1]', 'H[2]', 'up']\n",
      "['C', 'C[0]', 'O', 'O[0]', 'O[1]', 'port', 'port[0]', 'port[1]']\n"
     ]
    },
    {
     "data": {
      "application/3dmoljs_load.v0": "<div id=\"3dmolviewer_1732108576275896\"  style=\"position: relative; width: 640px; height: 480px;\">\n        <p id=\"3dmolwarning_1732108576275896\" style=\"background-color:#ffcccc;color:black\">3Dmol.js failed to load for some reason.  Please check your browser console for error messages.<br></p>\n        </div>\n<script>\n\nvar loadScriptAsync = function(uri){\n  return new Promise((resolve, reject) => {\n    //this is to ignore the existence of requirejs amd\n    var savedexports, savedmodule;\n    if (typeof exports !== 'undefined') savedexports = exports;\n    else exports = {}\n    if (typeof module !== 'undefined') savedmodule = module;\n    else module = {}\n\n    var tag = document.createElement('script');\n    tag.src = uri;\n    tag.async = true;\n    tag.onload = () => {\n        exports = savedexports;\n        module = savedmodule;\n        resolve();\n    };\n  var firstScriptTag = document.getElementsByTagName('script')[0];\n  firstScriptTag.parentNode.insertBefore(tag, firstScriptTag);\n});\n};\n\nif(typeof $3Dmolpromise === 'undefined') {\n$3Dmolpromise = null;\n  $3Dmolpromise = loadScriptAsync('https://cdnjs.cloudflare.com/ajax/libs/3Dmol/2.4.2/3Dmol-min.js');\n}\n\nvar viewer_1732108576275896 = null;\nvar warn = document.getElementById(\"3dmolwarning_1732108576275896\");\nif(warn) {\n    warn.parentNode.removeChild(warn);\n}\n$3Dmolpromise.then(function() {\nviewer_1732108576275896 = $3Dmol.createViewer(document.getElementById(\"3dmolviewer_1732108576275896\"),{backgroundColor:\"white\"});\nviewer_1732108576275896.zoomTo();\n\tviewer_1732108576275896.addModel(\"@<TRIPOS>MOLECULE\\nRES\\n11 10 1 0 1\\nSMALL\\nNO_CHARGES\\n@<TRIPOS>CRYSIN\\n    8.1805     9.5812     6.9092    90.0000    90.0000    90.0000 1 1\\n@<TRIPOS>ATOM\\n       1 C            0.0000     0.0000     0.0000 C             1 RES     \\n       2 O           -1.4240    -0.0490     0.0000 O             1 RES     \\n       3 O            0.4070     1.3640     0.0000 O             1 RES     \\n       4 C            0.7826    -1.0237    -0.1892 C             1 RES     \\n       5 H            0.0471    -1.6667     0.2472 H             1 RES     \\n       6 H            1.7565    -1.3188     0.1421 H             1 RES     \\n       7 H            0.7318    -1.0957    -1.2562 H             1 RES     \\n       8 C           -0.5769     2.0273    -0.0000 C             1 RES     \\n       9 H            0.0212     2.9145     0.0000 H             1 RES     \\n      10 H           -1.4141     2.1611     0.6530 H             1 RES     \\n      11 H           -0.9266     1.8324    -0.9930 H             1 RES     \\n@<TRIPOS>BOND\\n       1        1        2 1\\n       2        1        3 1\\n       3        1        4 1\\n       4        3        8 1\\n       5        4        5 1\\n       6        4        6 1\\n       7        4        7 1\\n       8        8        9 1\\n       9        8       10 1\\n      10        8       11 1\\n@<TRIPOS>SUBSTRUCTURE\\n       1 RES             1 RESIDUE    0 **** ROOT      0\\n\",\"mol2\");\n\tviewer_1732108576275896.setStyle({\"stick\": {\"radius\": 0.18, \"color\": \"grey\"}, \"sphere\": {\"scale\": 0.3, \"colorscheme\": {}}});\n\tviewer_1732108576275896.zoomTo();\nviewer_1732108576275896.render();\n});\n</script>",
      "text/html": [
       "<div id=\"3dmolviewer_1732108576275896\"  style=\"position: relative; width: 640px; height: 480px;\">\n",
       "        <p id=\"3dmolwarning_1732108576275896\" style=\"background-color:#ffcccc;color:black\">3Dmol.js failed to load for some reason.  Please check your browser console for error messages.<br></p>\n",
       "        </div>\n",
       "<script>\n",
       "\n",
       "var loadScriptAsync = function(uri){\n",
       "  return new Promise((resolve, reject) => {\n",
       "    //this is to ignore the existence of requirejs amd\n",
       "    var savedexports, savedmodule;\n",
       "    if (typeof exports !== 'undefined') savedexports = exports;\n",
       "    else exports = {}\n",
       "    if (typeof module !== 'undefined') savedmodule = module;\n",
       "    else module = {}\n",
       "\n",
       "    var tag = document.createElement('script');\n",
       "    tag.src = uri;\n",
       "    tag.async = true;\n",
       "    tag.onload = () => {\n",
       "        exports = savedexports;\n",
       "        module = savedmodule;\n",
       "        resolve();\n",
       "    };\n",
       "  var firstScriptTag = document.getElementsByTagName('script')[0];\n",
       "  firstScriptTag.parentNode.insertBefore(tag, firstScriptTag);\n",
       "});\n",
       "};\n",
       "\n",
       "if(typeof $3Dmolpromise === 'undefined') {\n",
       "$3Dmolpromise = null;\n",
       "  $3Dmolpromise = loadScriptAsync('https://cdnjs.cloudflare.com/ajax/libs/3Dmol/2.4.2/3Dmol-min.js');\n",
       "}\n",
       "\n",
       "var viewer_1732108576275896 = null;\n",
       "var warn = document.getElementById(\"3dmolwarning_1732108576275896\");\n",
       "if(warn) {\n",
       "    warn.parentNode.removeChild(warn);\n",
       "}\n",
       "$3Dmolpromise.then(function() {\n",
       "viewer_1732108576275896 = $3Dmol.createViewer(document.getElementById(\"3dmolviewer_1732108576275896\"),{backgroundColor:\"white\"});\n",
       "viewer_1732108576275896.zoomTo();\n",
       "\tviewer_1732108576275896.addModel(\"@<TRIPOS>MOLECULE\\nRES\\n11 10 1 0 1\\nSMALL\\nNO_CHARGES\\n@<TRIPOS>CRYSIN\\n    8.1805     9.5812     6.9092    90.0000    90.0000    90.0000 1 1\\n@<TRIPOS>ATOM\\n       1 C            0.0000     0.0000     0.0000 C             1 RES     \\n       2 O           -1.4240    -0.0490     0.0000 O             1 RES     \\n       3 O            0.4070     1.3640     0.0000 O             1 RES     \\n       4 C            0.7826    -1.0237    -0.1892 C             1 RES     \\n       5 H            0.0471    -1.6667     0.2472 H             1 RES     \\n       6 H            1.7565    -1.3188     0.1421 H             1 RES     \\n       7 H            0.7318    -1.0957    -1.2562 H             1 RES     \\n       8 C           -0.5769     2.0273    -0.0000 C             1 RES     \\n       9 H            0.0212     2.9145     0.0000 H             1 RES     \\n      10 H           -1.4141     2.1611     0.6530 H             1 RES     \\n      11 H           -0.9266     1.8324    -0.9930 H             1 RES     \\n@<TRIPOS>BOND\\n       1        1        2 1\\n       2        1        3 1\\n       3        1        4 1\\n       4        3        8 1\\n       5        4        5 1\\n       6        4        6 1\\n       7        4        7 1\\n       8        8        9 1\\n       9        8       10 1\\n      10        8       11 1\\n@<TRIPOS>SUBSTRUCTURE\\n       1 RES             1 RESIDUE    0 **** ROOT      0\\n\",\"mol2\");\n",
       "\tviewer_1732108576275896.setStyle({\"stick\": {\"radius\": 0.18, \"color\": \"grey\"}, \"sphere\": {\"scale\": 0.3, \"colorscheme\": {}}});\n",
       "\tviewer_1732108576275896.zoomTo();\n",
       "viewer_1732108576275896.render();\n",
       "});\n",
       "</script>"
      ]
     },
     "metadata": {},
     "output_type": "display_data"
    },
    {
     "data": {
      "text/plain": [
       "<py3Dmol.view at 0x12fbf0f10>"
      ]
     },
     "execution_count": 5,
     "metadata": {},
     "output_type": "execute_result"
    }
   ],
   "source": [
    "methylacetate = mb.Compound()\n",
    "methylacetate.add((ester, ch3_1new, ch3_2new))\n",
    "print(\"\\n\", list(ch3_1new.labels.keys()))\n",
    "print(list(ch3_2new.labels.keys()))\n",
    "print(list(ester.labels.keys()))\n",
    "mb.force_overlap(move_this=ch3_1new,\n",
    "                 from_positions=ch3_1new['up'],\n",
    "                 to_positions=ester['port[0]'])\n",
    "mb.force_overlap(move_this=ch3_2new,\n",
    "                 from_positions=ch3_2new['up'],\n",
    "                 to_positions=ester['port[1]'])\n",
    "methylacetate.visualize(show_ports=True)"
   ]
  },
  {
   "cell_type": "markdown",
   "id": "acbcd5d5",
   "metadata": {},
   "source": [
    "Amide\n",
    "--------\n",
    "Now we make an amide group which is very similar to the ester group."
   ]
  },
  {
   "cell_type": "code",
   "execution_count": 6,
   "id": "9d4b8a22",
   "metadata": {},
   "outputs": [
    {
     "data": {
      "application/3dmoljs_load.v0": "<div id=\"3dmolviewer_1732108576332725\"  style=\"position: relative; width: 640px; height: 480px;\">\n        <p id=\"3dmolwarning_1732108576332725\" style=\"background-color:#ffcccc;color:black\">3Dmol.js failed to load for some reason.  Please check your browser console for error messages.<br></p>\n        </div>\n<script>\n\nvar loadScriptAsync = function(uri){\n  return new Promise((resolve, reject) => {\n    //this is to ignore the existence of requirejs amd\n    var savedexports, savedmodule;\n    if (typeof exports !== 'undefined') savedexports = exports;\n    else exports = {}\n    if (typeof module !== 'undefined') savedmodule = module;\n    else module = {}\n\n    var tag = document.createElement('script');\n    tag.src = uri;\n    tag.async = true;\n    tag.onload = () => {\n        exports = savedexports;\n        module = savedmodule;\n        resolve();\n    };\n  var firstScriptTag = document.getElementsByTagName('script')[0];\n  firstScriptTag.parentNode.insertBefore(tag, firstScriptTag);\n});\n};\n\nif(typeof $3Dmolpromise === 'undefined') {\n$3Dmolpromise = null;\n  $3Dmolpromise = loadScriptAsync('https://cdnjs.cloudflare.com/ajax/libs/3Dmol/2.4.2/3Dmol-min.js');\n}\n\nvar viewer_1732108576332725 = null;\nvar warn = document.getElementById(\"3dmolwarning_1732108576332725\");\nif(warn) {\n    warn.parentNode.removeChild(warn);\n}\n$3Dmolpromise.then(function() {\nviewer_1732108576332725 = $3Dmol.createViewer(document.getElementById(\"3dmolviewer_1732108576332725\"),{backgroundColor:\"white\"});\nviewer_1732108576332725.zoomTo();\n\tviewer_1732108576332725.addModel(\"@<TRIPOS>MOLECULE\\nRES\\n4 3 1 0 1\\nSMALL\\nNO_CHARGES\\n@<TRIPOS>CRYSIN\\n    6.4310     7.5420     5.9400    90.0000    90.0000    90.0000 1 1\\n@<TRIPOS>ATOM\\n       1 C            0.0000     0.0000     0.0000 C             1 RES     \\n       2 O           -0.0360     1.4950     0.0000 O             1 RES     \\n       3 N            1.1790    -0.7160     0.0000 N             1 RES     \\n       4 H            1.3950    -1.0470    -0.9400 H             1 RES     \\n@<TRIPOS>BOND\\n       1        1        2 1\\n       2        1        3 1\\n       3        3        4 1\\n@<TRIPOS>SUBSTRUCTURE\\n       1 RES             1 RESIDUE    0 **** ROOT      0\\n\",\"mol2\");\n\tviewer_1732108576332725.setStyle({\"stick\": {\"radius\": 0.18, \"color\": \"grey\"}, \"sphere\": {\"scale\": 0.3, \"colorscheme\": {}}});\n\tviewer_1732108576332725.zoomTo();\nviewer_1732108576332725.render();\n});\n</script>",
      "text/html": [
       "<div id=\"3dmolviewer_1732108576332725\"  style=\"position: relative; width: 640px; height: 480px;\">\n",
       "        <p id=\"3dmolwarning_1732108576332725\" style=\"background-color:#ffcccc;color:black\">3Dmol.js failed to load for some reason.  Please check your browser console for error messages.<br></p>\n",
       "        </div>\n",
       "<script>\n",
       "\n",
       "var loadScriptAsync = function(uri){\n",
       "  return new Promise((resolve, reject) => {\n",
       "    //this is to ignore the existence of requirejs amd\n",
       "    var savedexports, savedmodule;\n",
       "    if (typeof exports !== 'undefined') savedexports = exports;\n",
       "    else exports = {}\n",
       "    if (typeof module !== 'undefined') savedmodule = module;\n",
       "    else module = {}\n",
       "\n",
       "    var tag = document.createElement('script');\n",
       "    tag.src = uri;\n",
       "    tag.async = true;\n",
       "    tag.onload = () => {\n",
       "        exports = savedexports;\n",
       "        module = savedmodule;\n",
       "        resolve();\n",
       "    };\n",
       "  var firstScriptTag = document.getElementsByTagName('script')[0];\n",
       "  firstScriptTag.parentNode.insertBefore(tag, firstScriptTag);\n",
       "});\n",
       "};\n",
       "\n",
       "if(typeof $3Dmolpromise === 'undefined') {\n",
       "$3Dmolpromise = null;\n",
       "  $3Dmolpromise = loadScriptAsync('https://cdnjs.cloudflare.com/ajax/libs/3Dmol/2.4.2/3Dmol-min.js');\n",
       "}\n",
       "\n",
       "var viewer_1732108576332725 = null;\n",
       "var warn = document.getElementById(\"3dmolwarning_1732108576332725\");\n",
       "if(warn) {\n",
       "    warn.parentNode.removeChild(warn);\n",
       "}\n",
       "$3Dmolpromise.then(function() {\n",
       "viewer_1732108576332725 = $3Dmol.createViewer(document.getElementById(\"3dmolviewer_1732108576332725\"),{backgroundColor:\"white\"});\n",
       "viewer_1732108576332725.zoomTo();\n",
       "\tviewer_1732108576332725.addModel(\"@<TRIPOS>MOLECULE\\nRES\\n4 3 1 0 1\\nSMALL\\nNO_CHARGES\\n@<TRIPOS>CRYSIN\\n    6.4310     7.5420     5.9400    90.0000    90.0000    90.0000 1 1\\n@<TRIPOS>ATOM\\n       1 C            0.0000     0.0000     0.0000 C             1 RES     \\n       2 O           -0.0360     1.4950     0.0000 O             1 RES     \\n       3 N            1.1790    -0.7160     0.0000 N             1 RES     \\n       4 H            1.3950    -1.0470    -0.9400 H             1 RES     \\n@<TRIPOS>BOND\\n       1        1        2 1\\n       2        1        3 1\\n       3        3        4 1\\n@<TRIPOS>SUBSTRUCTURE\\n       1 RES             1 RESIDUE    0 **** ROOT      0\\n\",\"mol2\");\n",
       "\tviewer_1732108576332725.setStyle({\"stick\": {\"radius\": 0.18, \"color\": \"grey\"}, \"sphere\": {\"scale\": 0.3, \"colorscheme\": {}}});\n",
       "\tviewer_1732108576332725.zoomTo();\n",
       "viewer_1732108576332725.render();\n",
       "});\n",
       "</script>"
      ]
     },
     "metadata": {},
     "output_type": "display_data"
    },
    {
     "data": {
      "text/plain": [
       "<py3Dmol.view at 0x12fbc6a50>"
      ]
     },
     "execution_count": 6,
     "metadata": {},
     "output_type": "execute_result"
    }
   ],
   "source": [
    "amide = Amide()\n",
    "amide.visualize(show_ports=True)                    "
   ]
  },
  {
   "cell_type": "code",
   "execution_count": 7,
   "id": "d1c078de",
   "metadata": {},
   "outputs": [
    {
     "data": {
      "application/3dmoljs_load.v0": "<div id=\"3dmolviewer_1732108576395942\"  style=\"position: relative; width: 640px; height: 480px;\">\n        <p id=\"3dmolwarning_1732108576395942\" style=\"background-color:#ffcccc;color:black\">3Dmol.js failed to load for some reason.  Please check your browser console for error messages.<br></p>\n        </div>\n<script>\n\nvar loadScriptAsync = function(uri){\n  return new Promise((resolve, reject) => {\n    //this is to ignore the existence of requirejs amd\n    var savedexports, savedmodule;\n    if (typeof exports !== 'undefined') savedexports = exports;\n    else exports = {}\n    if (typeof module !== 'undefined') savedmodule = module;\n    else module = {}\n\n    var tag = document.createElement('script');\n    tag.src = uri;\n    tag.async = true;\n    tag.onload = () => {\n        exports = savedexports;\n        module = savedmodule;\n        resolve();\n    };\n  var firstScriptTag = document.getElementsByTagName('script')[0];\n  firstScriptTag.parentNode.insertBefore(tag, firstScriptTag);\n});\n};\n\nif(typeof $3Dmolpromise === 'undefined') {\n$3Dmolpromise = null;\n  $3Dmolpromise = loadScriptAsync('https://cdnjs.cloudflare.com/ajax/libs/3Dmol/2.4.2/3Dmol-min.js');\n}\n\nvar viewer_1732108576395942 = null;\nvar warn = document.getElementById(\"3dmolwarning_1732108576395942\");\nif(warn) {\n    warn.parentNode.removeChild(warn);\n}\n$3Dmolpromise.then(function() {\nviewer_1732108576395942 = $3Dmol.createViewer(document.getElementById(\"3dmolviewer_1732108576395942\"),{backgroundColor:\"white\"});\nviewer_1732108576395942.zoomTo();\n\tviewer_1732108576395942.addModel(\"@<TRIPOS>MOLECULE\\nRES\\n12 11 1 0 1\\nSMALL\\nNO_CHARGES\\n@<TRIPOS>CRYSIN\\n   10.0173     7.8001     7.5183    90.0000    90.0000    90.0000 1 1\\n@<TRIPOS>ATOM\\n       1 C            0.0000     0.0000     0.0000 C             1 RES     \\n       2 O           -0.0360     1.4950     0.0000 O             1 RES     \\n       3 N            1.1790    -0.7160     0.0000 N             1 RES     \\n       4 H            1.3950    -1.0470    -0.9400 H             1 RES     \\n       5 C           -1.1759    -0.5869    -0.4829 C             1 RES     \\n       6 H           -1.4052     0.3117    -1.0166 H             1 RES     \\n       7 H           -2.0709    -0.9839    -0.0509 H             1 RES     \\n       8 H           -0.7561    -1.3051    -1.1569 H             1 RES     \\n       9 C            2.1974     0.2126     0.4576 C             1 RES     \\n      10 H            2.9464    -0.5378     0.3133 H             1 RES     \\n      11 H            2.3988     0.7490     1.3614 H             1 RES     \\n      12 H            2.2083     0.8916    -0.3702 H             1 RES     \\n@<TRIPOS>BOND\\n       1        1        2 1\\n       2        1        3 1\\n       3        1        5 1\\n       4        3        4 1\\n       5        3        9 1\\n       6        5        6 1\\n       7        5        7 1\\n       8        5        8 1\\n       9        9       10 1\\n      10        9       11 1\\n      11        9       12 1\\n@<TRIPOS>SUBSTRUCTURE\\n       1 RES             1 RESIDUE    0 **** ROOT      0\\n\",\"mol2\");\n\tviewer_1732108576395942.setStyle({\"stick\": {\"radius\": 0.18, \"color\": \"grey\"}, \"sphere\": {\"scale\": 0.3, \"colorscheme\": {}}});\n\tviewer_1732108576395942.zoomTo();\nviewer_1732108576395942.render();\n});\n</script>",
      "text/html": [
       "<div id=\"3dmolviewer_1732108576395942\"  style=\"position: relative; width: 640px; height: 480px;\">\n",
       "        <p id=\"3dmolwarning_1732108576395942\" style=\"background-color:#ffcccc;color:black\">3Dmol.js failed to load for some reason.  Please check your browser console for error messages.<br></p>\n",
       "        </div>\n",
       "<script>\n",
       "\n",
       "var loadScriptAsync = function(uri){\n",
       "  return new Promise((resolve, reject) => {\n",
       "    //this is to ignore the existence of requirejs amd\n",
       "    var savedexports, savedmodule;\n",
       "    if (typeof exports !== 'undefined') savedexports = exports;\n",
       "    else exports = {}\n",
       "    if (typeof module !== 'undefined') savedmodule = module;\n",
       "    else module = {}\n",
       "\n",
       "    var tag = document.createElement('script');\n",
       "    tag.src = uri;\n",
       "    tag.async = true;\n",
       "    tag.onload = () => {\n",
       "        exports = savedexports;\n",
       "        module = savedmodule;\n",
       "        resolve();\n",
       "    };\n",
       "  var firstScriptTag = document.getElementsByTagName('script')[0];\n",
       "  firstScriptTag.parentNode.insertBefore(tag, firstScriptTag);\n",
       "});\n",
       "};\n",
       "\n",
       "if(typeof $3Dmolpromise === 'undefined') {\n",
       "$3Dmolpromise = null;\n",
       "  $3Dmolpromise = loadScriptAsync('https://cdnjs.cloudflare.com/ajax/libs/3Dmol/2.4.2/3Dmol-min.js');\n",
       "}\n",
       "\n",
       "var viewer_1732108576395942 = null;\n",
       "var warn = document.getElementById(\"3dmolwarning_1732108576395942\");\n",
       "if(warn) {\n",
       "    warn.parentNode.removeChild(warn);\n",
       "}\n",
       "$3Dmolpromise.then(function() {\n",
       "viewer_1732108576395942 = $3Dmol.createViewer(document.getElementById(\"3dmolviewer_1732108576395942\"),{backgroundColor:\"white\"});\n",
       "viewer_1732108576395942.zoomTo();\n",
       "\tviewer_1732108576395942.addModel(\"@<TRIPOS>MOLECULE\\nRES\\n12 11 1 0 1\\nSMALL\\nNO_CHARGES\\n@<TRIPOS>CRYSIN\\n   10.0173     7.8001     7.5183    90.0000    90.0000    90.0000 1 1\\n@<TRIPOS>ATOM\\n       1 C            0.0000     0.0000     0.0000 C             1 RES     \\n       2 O           -0.0360     1.4950     0.0000 O             1 RES     \\n       3 N            1.1790    -0.7160     0.0000 N             1 RES     \\n       4 H            1.3950    -1.0470    -0.9400 H             1 RES     \\n       5 C           -1.1759    -0.5869    -0.4829 C             1 RES     \\n       6 H           -1.4052     0.3117    -1.0166 H             1 RES     \\n       7 H           -2.0709    -0.9839    -0.0509 H             1 RES     \\n       8 H           -0.7561    -1.3051    -1.1569 H             1 RES     \\n       9 C            2.1974     0.2126     0.4576 C             1 RES     \\n      10 H            2.9464    -0.5378     0.3133 H             1 RES     \\n      11 H            2.3988     0.7490     1.3614 H             1 RES     \\n      12 H            2.2083     0.8916    -0.3702 H             1 RES     \\n@<TRIPOS>BOND\\n       1        1        2 1\\n       2        1        3 1\\n       3        1        5 1\\n       4        3        4 1\\n       5        3        9 1\\n       6        5        6 1\\n       7        5        7 1\\n       8        5        8 1\\n       9        9       10 1\\n      10        9       11 1\\n      11        9       12 1\\n@<TRIPOS>SUBSTRUCTURE\\n       1 RES             1 RESIDUE    0 **** ROOT      0\\n\",\"mol2\");\n",
       "\tviewer_1732108576395942.setStyle({\"stick\": {\"radius\": 0.18, \"color\": \"grey\"}, \"sphere\": {\"scale\": 0.3, \"colorscheme\": {}}});\n",
       "\tviewer_1732108576395942.zoomTo();\n",
       "viewer_1732108576395942.render();\n",
       "});\n",
       "</script>"
      ]
     },
     "metadata": {},
     "output_type": "display_data"
    },
    {
     "data": {
      "text/plain": [
       "<py3Dmol.view at 0x12db43c90>"
      ]
     },
     "execution_count": 7,
     "metadata": {},
     "output_type": "execute_result"
    }
   ],
   "source": [
    "ch3_1 = CH3()\n",
    "ch3_2 = CH3()\n",
    "methylacetamide = mb.Compound()\n",
    "methylacetamide.add((amide, ch3_1, ch3_2))\n",
    "mb.force_overlap(move_this=ch3_1,\n",
    "                 from_positions=ch3_1['up'],\n",
    "                 to_positions=amide['port[0]'])\n",
    "mb.force_overlap(move_this=ch3_2,\n",
    "                 from_positions=ch3_2['up'],\n",
    "                 to_positions=amide['port[1]'])\n",
    "methylacetamide.visualize(show_ports=True)"
   ]
  },
  {
   "cell_type": "markdown",
   "id": "1fc41e03",
   "metadata": {},
   "source": [
    "Sulfonate\n",
    "------------\n",
    "Note that the charge isn't appied until the forcefield is."
   ]
  },
  {
   "cell_type": "code",
   "execution_count": 8,
   "id": "af407ffc",
   "metadata": {},
   "outputs": [
    {
     "data": {
      "application/3dmoljs_load.v0": "<div id=\"3dmolviewer_1732108576452238\"  style=\"position: relative; width: 640px; height: 480px;\">\n        <p id=\"3dmolwarning_1732108576452238\" style=\"background-color:#ffcccc;color:black\">3Dmol.js failed to load for some reason.  Please check your browser console for error messages.<br></p>\n        </div>\n<script>\n\nvar loadScriptAsync = function(uri){\n  return new Promise((resolve, reject) => {\n    //this is to ignore the existence of requirejs amd\n    var savedexports, savedmodule;\n    if (typeof exports !== 'undefined') savedexports = exports;\n    else exports = {}\n    if (typeof module !== 'undefined') savedmodule = module;\n    else module = {}\n\n    var tag = document.createElement('script');\n    tag.src = uri;\n    tag.async = true;\n    tag.onload = () => {\n        exports = savedexports;\n        module = savedmodule;\n        resolve();\n    };\n  var firstScriptTag = document.getElementsByTagName('script')[0];\n  firstScriptTag.parentNode.insertBefore(tag, firstScriptTag);\n});\n};\n\nif(typeof $3Dmolpromise === 'undefined') {\n$3Dmolpromise = null;\n  $3Dmolpromise = loadScriptAsync('https://cdnjs.cloudflare.com/ajax/libs/3Dmol/2.4.2/3Dmol-min.js');\n}\n\nvar viewer_1732108576452238 = null;\nvar warn = document.getElementById(\"3dmolwarning_1732108576452238\");\nif(warn) {\n    warn.parentNode.removeChild(warn);\n}\n$3Dmolpromise.then(function() {\nviewer_1732108576452238 = $3Dmol.createViewer(document.getElementById(\"3dmolviewer_1732108576452238\"),{backgroundColor:\"white\"});\nviewer_1732108576452238.zoomTo();\n\tviewer_1732108576452238.addModel(\"@<TRIPOS>MOLECULE\\nRES\\n4 3 1 0 1\\nSMALL\\nNO_CHARGES\\n@<TRIPOS>CRYSIN\\n    6.1970     7.1450     7.0550    90.0000    90.0000    90.0000 1 1\\n@<TRIPOS>ATOM\\n       1 S            0.0000     0.0000     0.0000 S             1 RES     \\n       2 O           -0.6700     0.9710    -0.8200 O             1 RES     \\n       3 O           -0.6900    -0.5860     1.1140 O             1 RES     \\n       4 O            0.5070    -1.1740    -0.9410 O             1 RES     \\n@<TRIPOS>BOND\\n       1        1        2 1\\n       2        1        3 1\\n       3        1        4 1\\n@<TRIPOS>SUBSTRUCTURE\\n       1 RES             1 RESIDUE    0 **** ROOT      0\\n\",\"mol2\");\n\tviewer_1732108576452238.setStyle({\"stick\": {\"radius\": 0.18, \"color\": \"grey\"}, \"sphere\": {\"scale\": 0.3, \"colorscheme\": {}}});\n\tviewer_1732108576452238.zoomTo();\nviewer_1732108576452238.render();\n});\n</script>",
      "text/html": [
       "<div id=\"3dmolviewer_1732108576452238\"  style=\"position: relative; width: 640px; height: 480px;\">\n",
       "        <p id=\"3dmolwarning_1732108576452238\" style=\"background-color:#ffcccc;color:black\">3Dmol.js failed to load for some reason.  Please check your browser console for error messages.<br></p>\n",
       "        </div>\n",
       "<script>\n",
       "\n",
       "var loadScriptAsync = function(uri){\n",
       "  return new Promise((resolve, reject) => {\n",
       "    //this is to ignore the existence of requirejs amd\n",
       "    var savedexports, savedmodule;\n",
       "    if (typeof exports !== 'undefined') savedexports = exports;\n",
       "    else exports = {}\n",
       "    if (typeof module !== 'undefined') savedmodule = module;\n",
       "    else module = {}\n",
       "\n",
       "    var tag = document.createElement('script');\n",
       "    tag.src = uri;\n",
       "    tag.async = true;\n",
       "    tag.onload = () => {\n",
       "        exports = savedexports;\n",
       "        module = savedmodule;\n",
       "        resolve();\n",
       "    };\n",
       "  var firstScriptTag = document.getElementsByTagName('script')[0];\n",
       "  firstScriptTag.parentNode.insertBefore(tag, firstScriptTag);\n",
       "});\n",
       "};\n",
       "\n",
       "if(typeof $3Dmolpromise === 'undefined') {\n",
       "$3Dmolpromise = null;\n",
       "  $3Dmolpromise = loadScriptAsync('https://cdnjs.cloudflare.com/ajax/libs/3Dmol/2.4.2/3Dmol-min.js');\n",
       "}\n",
       "\n",
       "var viewer_1732108576452238 = null;\n",
       "var warn = document.getElementById(\"3dmolwarning_1732108576452238\");\n",
       "if(warn) {\n",
       "    warn.parentNode.removeChild(warn);\n",
       "}\n",
       "$3Dmolpromise.then(function() {\n",
       "viewer_1732108576452238 = $3Dmol.createViewer(document.getElementById(\"3dmolviewer_1732108576452238\"),{backgroundColor:\"white\"});\n",
       "viewer_1732108576452238.zoomTo();\n",
       "\tviewer_1732108576452238.addModel(\"@<TRIPOS>MOLECULE\\nRES\\n4 3 1 0 1\\nSMALL\\nNO_CHARGES\\n@<TRIPOS>CRYSIN\\n    6.1970     7.1450     7.0550    90.0000    90.0000    90.0000 1 1\\n@<TRIPOS>ATOM\\n       1 S            0.0000     0.0000     0.0000 S             1 RES     \\n       2 O           -0.6700     0.9710    -0.8200 O             1 RES     \\n       3 O           -0.6900    -0.5860     1.1140 O             1 RES     \\n       4 O            0.5070    -1.1740    -0.9410 O             1 RES     \\n@<TRIPOS>BOND\\n       1        1        2 1\\n       2        1        3 1\\n       3        1        4 1\\n@<TRIPOS>SUBSTRUCTURE\\n       1 RES             1 RESIDUE    0 **** ROOT      0\\n\",\"mol2\");\n",
       "\tviewer_1732108576452238.setStyle({\"stick\": {\"radius\": 0.18, \"color\": \"grey\"}, \"sphere\": {\"scale\": 0.3, \"colorscheme\": {}}});\n",
       "\tviewer_1732108576452238.zoomTo();\n",
       "viewer_1732108576452238.render();\n",
       "});\n",
       "</script>"
      ]
     },
     "metadata": {},
     "output_type": "display_data"
    },
    {
     "data": {
      "text/plain": [
       "<py3Dmol.view at 0x12ebf9ad0>"
      ]
     },
     "execution_count": 8,
     "metadata": {},
     "output_type": "execute_result"
    }
   ],
   "source": [
    "sulfonate = Sulfonate()\n",
    "sulfonate.visualize(show_ports=True) "
   ]
  },
  {
   "cell_type": "code",
   "execution_count": 9,
   "id": "d14f83d1",
   "metadata": {},
   "outputs": [
    {
     "data": {
      "application/3dmoljs_load.v0": "<div id=\"3dmolviewer_17321085765952399\"  style=\"position: relative; width: 640px; height: 480px;\">\n        <p id=\"3dmolwarning_17321085765952399\" style=\"background-color:#ffcccc;color:black\">3Dmol.js failed to load for some reason.  Please check your browser console for error messages.<br></p>\n        </div>\n<script>\n\nvar loadScriptAsync = function(uri){\n  return new Promise((resolve, reject) => {\n    //this is to ignore the existence of requirejs amd\n    var savedexports, savedmodule;\n    if (typeof exports !== 'undefined') savedexports = exports;\n    else exports = {}\n    if (typeof module !== 'undefined') savedmodule = module;\n    else module = {}\n\n    var tag = document.createElement('script');\n    tag.src = uri;\n    tag.async = true;\n    tag.onload = () => {\n        exports = savedexports;\n        module = savedmodule;\n        resolve();\n    };\n  var firstScriptTag = document.getElementsByTagName('script')[0];\n  firstScriptTag.parentNode.insertBefore(tag, firstScriptTag);\n});\n};\n\nif(typeof $3Dmolpromise === 'undefined') {\n$3Dmolpromise = null;\n  $3Dmolpromise = loadScriptAsync('https://cdnjs.cloudflare.com/ajax/libs/3Dmol/2.4.2/3Dmol-min.js');\n}\n\nvar viewer_17321085765952399 = null;\nvar warn = document.getElementById(\"3dmolwarning_17321085765952399\");\nif(warn) {\n    warn.parentNode.removeChild(warn);\n}\n$3Dmolpromise.then(function() {\nviewer_17321085765952399 = $3Dmol.createViewer(document.getElementById(\"3dmolviewer_17321085765952399\"),{backgroundColor:\"white\"});\nviewer_17321085765952399.zoomTo();\n\tviewer_17321085765952399.addModel(\"@<TRIPOS>MOLECULE\\nRES\\n8 7 1 0 1\\nSMALL\\nNO_CHARGES\\n@<TRIPOS>CRYSIN\\n    7.3890     7.4901     7.3693    90.0000    90.0000    90.0000 1 1\\n@<TRIPOS>ATOM\\n       1 S            0.0000     0.0000     0.0000 S             1 RES     \\n       2 O           -0.6700     0.9710    -0.8200 O             1 RES     \\n       3 O           -0.6900    -0.5860     1.1140 O             1 RES     \\n       4 O            0.5070    -1.1740    -0.9410 O             1 RES     \\n       5 C            1.1472     0.5908     0.4873 C             1 RES     \\n       6 H            1.6990    -0.2991     0.2672 H             1 RES     \\n       7 H            1.4683     0.9865     1.4284 H             1 RES     \\n       8 H            1.3179     1.3161    -0.2816 H             1 RES     \\n@<TRIPOS>BOND\\n       1        1        2 1\\n       2        1        3 1\\n       3        1        4 1\\n       4        1        5 1\\n       5        5        6 1\\n       6        5        7 1\\n       7        5        8 1\\n@<TRIPOS>SUBSTRUCTURE\\n       1 RES             1 RESIDUE    0 **** ROOT      0\\n\",\"mol2\");\n\tviewer_17321085765952399.setStyle({\"stick\": {\"radius\": 0.18, \"color\": \"grey\"}, \"sphere\": {\"scale\": 0.3, \"colorscheme\": {}}});\n\tviewer_17321085765952399.zoomTo();\nviewer_17321085765952399.render();\n});\n</script>",
      "text/html": [
       "<div id=\"3dmolviewer_17321085765952399\"  style=\"position: relative; width: 640px; height: 480px;\">\n",
       "        <p id=\"3dmolwarning_17321085765952399\" style=\"background-color:#ffcccc;color:black\">3Dmol.js failed to load for some reason.  Please check your browser console for error messages.<br></p>\n",
       "        </div>\n",
       "<script>\n",
       "\n",
       "var loadScriptAsync = function(uri){\n",
       "  return new Promise((resolve, reject) => {\n",
       "    //this is to ignore the existence of requirejs amd\n",
       "    var savedexports, savedmodule;\n",
       "    if (typeof exports !== 'undefined') savedexports = exports;\n",
       "    else exports = {}\n",
       "    if (typeof module !== 'undefined') savedmodule = module;\n",
       "    else module = {}\n",
       "\n",
       "    var tag = document.createElement('script');\n",
       "    tag.src = uri;\n",
       "    tag.async = true;\n",
       "    tag.onload = () => {\n",
       "        exports = savedexports;\n",
       "        module = savedmodule;\n",
       "        resolve();\n",
       "    };\n",
       "  var firstScriptTag = document.getElementsByTagName('script')[0];\n",
       "  firstScriptTag.parentNode.insertBefore(tag, firstScriptTag);\n",
       "});\n",
       "};\n",
       "\n",
       "if(typeof $3Dmolpromise === 'undefined') {\n",
       "$3Dmolpromise = null;\n",
       "  $3Dmolpromise = loadScriptAsync('https://cdnjs.cloudflare.com/ajax/libs/3Dmol/2.4.2/3Dmol-min.js');\n",
       "}\n",
       "\n",
       "var viewer_17321085765952399 = null;\n",
       "var warn = document.getElementById(\"3dmolwarning_17321085765952399\");\n",
       "if(warn) {\n",
       "    warn.parentNode.removeChild(warn);\n",
       "}\n",
       "$3Dmolpromise.then(function() {\n",
       "viewer_17321085765952399 = $3Dmol.createViewer(document.getElementById(\"3dmolviewer_17321085765952399\"),{backgroundColor:\"white\"});\n",
       "viewer_17321085765952399.zoomTo();\n",
       "\tviewer_17321085765952399.addModel(\"@<TRIPOS>MOLECULE\\nRES\\n8 7 1 0 1\\nSMALL\\nNO_CHARGES\\n@<TRIPOS>CRYSIN\\n    7.3890     7.4901     7.3693    90.0000    90.0000    90.0000 1 1\\n@<TRIPOS>ATOM\\n       1 S            0.0000     0.0000     0.0000 S             1 RES     \\n       2 O           -0.6700     0.9710    -0.8200 O             1 RES     \\n       3 O           -0.6900    -0.5860     1.1140 O             1 RES     \\n       4 O            0.5070    -1.1740    -0.9410 O             1 RES     \\n       5 C            1.1472     0.5908     0.4873 C             1 RES     \\n       6 H            1.6990    -0.2991     0.2672 H             1 RES     \\n       7 H            1.4683     0.9865     1.4284 H             1 RES     \\n       8 H            1.3179     1.3161    -0.2816 H             1 RES     \\n@<TRIPOS>BOND\\n       1        1        2 1\\n       2        1        3 1\\n       3        1        4 1\\n       4        1        5 1\\n       5        5        6 1\\n       6        5        7 1\\n       7        5        8 1\\n@<TRIPOS>SUBSTRUCTURE\\n       1 RES             1 RESIDUE    0 **** ROOT      0\\n\",\"mol2\");\n",
       "\tviewer_17321085765952399.setStyle({\"stick\": {\"radius\": 0.18, \"color\": \"grey\"}, \"sphere\": {\"scale\": 0.3, \"colorscheme\": {}}});\n",
       "\tviewer_17321085765952399.zoomTo();\n",
       "viewer_17321085765952399.render();\n",
       "});\n",
       "</script>"
      ]
     },
     "metadata": {},
     "output_type": "display_data"
    },
    {
     "data": {
      "text/plain": [
       "<py3Dmol.view at 0x12fbbd950>"
      ]
     },
     "execution_count": 9,
     "metadata": {},
     "output_type": "execute_result"
    }
   ],
   "source": [
    "ch3 = CH3()\n",
    "methanesulfonate = mb.Compound()\n",
    "methanesulfonate.add((sulfonate, ch3))\n",
    "mb.force_overlap(move_this=ch3,\n",
    "                 from_positions=ch3['up'],\n",
    "                 to_positions=sulfonate['port[0]'])\n",
    "methanesulfonate.visualize(show_ports=True)"
   ]
  },
  {
   "cell_type": "markdown",
   "id": "b6bc992b",
   "metadata": {},
   "source": [
    "Ammonium\n",
    "--------------\n",
    "Note that the charge isn't appied until the forcefield is. This moiety is flexible and can have any number of attached groups. For this reason, there are additional options to this `Compound`."
   ]
  },
  {
   "cell_type": "code",
   "execution_count": 10,
   "id": "7ed05ff7",
   "metadata": {},
   "outputs": [
    {
     "data": {
      "application/3dmoljs_load.v0": "<div id=\"3dmolviewer_1732108576895468\"  style=\"position: relative; width: 640px; height: 480px;\">\n        <p id=\"3dmolwarning_1732108576895468\" style=\"background-color:#ffcccc;color:black\">3Dmol.js failed to load for some reason.  Please check your browser console for error messages.<br></p>\n        </div>\n<script>\n\nvar loadScriptAsync = function(uri){\n  return new Promise((resolve, reject) => {\n    //this is to ignore the existence of requirejs amd\n    var savedexports, savedmodule;\n    if (typeof exports !== 'undefined') savedexports = exports;\n    else exports = {}\n    if (typeof module !== 'undefined') savedmodule = module;\n    else module = {}\n\n    var tag = document.createElement('script');\n    tag.src = uri;\n    tag.async = true;\n    tag.onload = () => {\n        exports = savedexports;\n        module = savedmodule;\n        resolve();\n    };\n  var firstScriptTag = document.getElementsByTagName('script')[0];\n  firstScriptTag.parentNode.insertBefore(tag, firstScriptTag);\n});\n};\n\nif(typeof $3Dmolpromise === 'undefined') {\n$3Dmolpromise = null;\n  $3Dmolpromise = loadScriptAsync('https://cdnjs.cloudflare.com/ajax/libs/3Dmol/2.4.2/3Dmol-min.js');\n}\n\nvar viewer_1732108576895468 = null;\nvar warn = document.getElementById(\"3dmolwarning_1732108576895468\");\nif(warn) {\n    warn.parentNode.removeChild(warn);\n}\n$3Dmolpromise.then(function() {\nviewer_1732108576895468 = $3Dmol.createViewer(document.getElementById(\"3dmolviewer_1732108576895468\"),{backgroundColor:\"white\"});\nviewer_1732108576895468.zoomTo();\n\tviewer_1732108576895468.addModel(\"@<TRIPOS>MOLECULE\\nRES\\n28 27 1 0 1\\nSMALL\\nNO_CHARGES\\n@<TRIPOS>CRYSIN\\n   12.5908     8.1780    12.0855    90.0000    90.0000    90.0000 1 1\\n@<TRIPOS>ATOM\\n       1 N            0.0000     0.0000     0.0000 N             1 RES     \\n       2 C            1.2104    -0.1236    -0.0047 C             1 RES     \\n       3 H            1.0986    -1.2179     0.0000 H             1 RES     \\n       4 H            1.3221     0.9707    -0.0094 H             1 RES     \\n       5 C            2.6031    -0.2659    -0.0101 C             1 RES     \\n       6 H            2.4914    -1.3602    -0.0054 H             1 RES     \\n       7 H            2.7149     0.8284    -0.0148 H             1 RES     \\n       8 C            3.9959    -0.4081    -0.0155 C             1 RES     \\n       9 H            3.8872    -1.4726    -0.0110 H             1 RES     \\n      10 H            4.7999    -0.1286     0.6329 H             1 RES     \\n      11 H            4.2079    -0.0752    -1.0108 H             1 RES     \\n      12 C           -0.4827    -0.7653     0.8135 C             1 RES     \\n      13 H            0.1335    -0.3408     1.5784 H             1 RES     \\n      14 H           -0.5266    -1.8272     0.9388 H             1 RES     \\n      15 H           -1.4699    -0.3568     0.8827 H             1 RES     \\n      16 C           -0.4370    -0.2556    -1.1060 C             1 RES     \\n      17 H            0.4833     0.1396    -1.5609 H             1 RES     \\n      18 H           -1.3572    -0.6508    -0.6511 H             1 RES     \\n      19 C           -0.9399    -0.5498    -2.3790 C             1 RES     \\n      20 H           -0.0197    -0.1546    -2.8339 H             1 RES     \\n      21 H           -1.8602    -0.9450    -1.9241 H             1 RES     \\n      22 C           -1.4429    -0.8440    -3.6520 C             1 RES     \\n      23 H           -0.5226    -0.4488    -4.1069 H             1 RES     \\n      24 H           -2.3632    -1.2391    -3.1970 H             1 RES     \\n      25 C           -1.9459    -1.1381    -4.9249 C             1 RES     \\n      26 H           -1.0507    -0.7537    -5.3675 H             1 RES     \\n      27 H           -2.7908    -0.8342    -5.5071 H             1 RES     \\n      28 H           -1.8989    -2.2073    -4.8955 H             1 RES     \\n@<TRIPOS>BOND\\n       1        1        2 1\\n       2        1       12 1\\n       3        1       16 1\\n       4        2        3 1\\n       5        2        4 1\\n       6        2        5 1\\n       7        5        6 1\\n       8        5        7 1\\n       9        5        8 1\\n      10        8        9 1\\n      11        8       10 1\\n      12        8       11 1\\n      13       12       13 1\\n      14       12       14 1\\n      15       12       15 1\\n      16       16       17 1\\n      17       16       18 1\\n      18       16       19 1\\n      19       19       20 1\\n      20       19       21 1\\n      21       19       22 1\\n      22       22       23 1\\n      23       22       24 1\\n      24       22       25 1\\n      25       25       26 1\\n      26       25       27 1\\n      27       25       28 1\\n@<TRIPOS>SUBSTRUCTURE\\n       1 RES             1 RESIDUE    0 **** ROOT      0\\n\",\"mol2\");\n\tviewer_1732108576895468.setStyle({\"stick\": {\"radius\": 0.18, \"color\": \"grey\"}, \"sphere\": {\"scale\": 0.3, \"colorscheme\": {}}});\n\tviewer_1732108576895468.zoomTo();\nviewer_1732108576895468.render();\n});\n</script>",
      "text/html": [
       "<div id=\"3dmolviewer_1732108576895468\"  style=\"position: relative; width: 640px; height: 480px;\">\n",
       "        <p id=\"3dmolwarning_1732108576895468\" style=\"background-color:#ffcccc;color:black\">3Dmol.js failed to load for some reason.  Please check your browser console for error messages.<br></p>\n",
       "        </div>\n",
       "<script>\n",
       "\n",
       "var loadScriptAsync = function(uri){\n",
       "  return new Promise((resolve, reject) => {\n",
       "    //this is to ignore the existence of requirejs amd\n",
       "    var savedexports, savedmodule;\n",
       "    if (typeof exports !== 'undefined') savedexports = exports;\n",
       "    else exports = {}\n",
       "    if (typeof module !== 'undefined') savedmodule = module;\n",
       "    else module = {}\n",
       "\n",
       "    var tag = document.createElement('script');\n",
       "    tag.src = uri;\n",
       "    tag.async = true;\n",
       "    tag.onload = () => {\n",
       "        exports = savedexports;\n",
       "        module = savedmodule;\n",
       "        resolve();\n",
       "    };\n",
       "  var firstScriptTag = document.getElementsByTagName('script')[0];\n",
       "  firstScriptTag.parentNode.insertBefore(tag, firstScriptTag);\n",
       "});\n",
       "};\n",
       "\n",
       "if(typeof $3Dmolpromise === 'undefined') {\n",
       "$3Dmolpromise = null;\n",
       "  $3Dmolpromise = loadScriptAsync('https://cdnjs.cloudflare.com/ajax/libs/3Dmol/2.4.2/3Dmol-min.js');\n",
       "}\n",
       "\n",
       "var viewer_1732108576895468 = null;\n",
       "var warn = document.getElementById(\"3dmolwarning_1732108576895468\");\n",
       "if(warn) {\n",
       "    warn.parentNode.removeChild(warn);\n",
       "}\n",
       "$3Dmolpromise.then(function() {\n",
       "viewer_1732108576895468 = $3Dmol.createViewer(document.getElementById(\"3dmolviewer_1732108576895468\"),{backgroundColor:\"white\"});\n",
       "viewer_1732108576895468.zoomTo();\n",
       "\tviewer_1732108576895468.addModel(\"@<TRIPOS>MOLECULE\\nRES\\n28 27 1 0 1\\nSMALL\\nNO_CHARGES\\n@<TRIPOS>CRYSIN\\n   12.5908     8.1780    12.0855    90.0000    90.0000    90.0000 1 1\\n@<TRIPOS>ATOM\\n       1 N            0.0000     0.0000     0.0000 N             1 RES     \\n       2 C            1.2104    -0.1236    -0.0047 C             1 RES     \\n       3 H            1.0986    -1.2179     0.0000 H             1 RES     \\n       4 H            1.3221     0.9707    -0.0094 H             1 RES     \\n       5 C            2.6031    -0.2659    -0.0101 C             1 RES     \\n       6 H            2.4914    -1.3602    -0.0054 H             1 RES     \\n       7 H            2.7149     0.8284    -0.0148 H             1 RES     \\n       8 C            3.9959    -0.4081    -0.0155 C             1 RES     \\n       9 H            3.8872    -1.4726    -0.0110 H             1 RES     \\n      10 H            4.7999    -0.1286     0.6329 H             1 RES     \\n      11 H            4.2079    -0.0752    -1.0108 H             1 RES     \\n      12 C           -0.4827    -0.7653     0.8135 C             1 RES     \\n      13 H            0.1335    -0.3408     1.5784 H             1 RES     \\n      14 H           -0.5266    -1.8272     0.9388 H             1 RES     \\n      15 H           -1.4699    -0.3568     0.8827 H             1 RES     \\n      16 C           -0.4370    -0.2556    -1.1060 C             1 RES     \\n      17 H            0.4833     0.1396    -1.5609 H             1 RES     \\n      18 H           -1.3572    -0.6508    -0.6511 H             1 RES     \\n      19 C           -0.9399    -0.5498    -2.3790 C             1 RES     \\n      20 H           -0.0197    -0.1546    -2.8339 H             1 RES     \\n      21 H           -1.8602    -0.9450    -1.9241 H             1 RES     \\n      22 C           -1.4429    -0.8440    -3.6520 C             1 RES     \\n      23 H           -0.5226    -0.4488    -4.1069 H             1 RES     \\n      24 H           -2.3632    -1.2391    -3.1970 H             1 RES     \\n      25 C           -1.9459    -1.1381    -4.9249 C             1 RES     \\n      26 H           -1.0507    -0.7537    -5.3675 H             1 RES     \\n      27 H           -2.7908    -0.8342    -5.5071 H             1 RES     \\n      28 H           -1.8989    -2.2073    -4.8955 H             1 RES     \\n@<TRIPOS>BOND\\n       1        1        2 1\\n       2        1       12 1\\n       3        1       16 1\\n       4        2        3 1\\n       5        2        4 1\\n       6        2        5 1\\n       7        5        6 1\\n       8        5        7 1\\n       9        5        8 1\\n      10        8        9 1\\n      11        8       10 1\\n      12        8       11 1\\n      13       12       13 1\\n      14       12       14 1\\n      15       12       15 1\\n      16       16       17 1\\n      17       16       18 1\\n      18       16       19 1\\n      19       19       20 1\\n      20       19       21 1\\n      21       19       22 1\\n      22       22       23 1\\n      23       22       24 1\\n      24       22       25 1\\n      25       25       26 1\\n      26       25       27 1\\n      27       25       28 1\\n@<TRIPOS>SUBSTRUCTURE\\n       1 RES             1 RESIDUE    0 **** ROOT      0\\n\",\"mol2\");\n",
       "\tviewer_1732108576895468.setStyle({\"stick\": {\"radius\": 0.18, \"color\": \"grey\"}, \"sphere\": {\"scale\": 0.3, \"colorscheme\": {}}});\n",
       "\tviewer_1732108576895468.zoomTo();\n",
       "viewer_1732108576895468.render();\n",
       "});\n",
       "</script>"
      ]
     },
     "metadata": {},
     "output_type": "display_data"
    },
    {
     "data": {
      "text/plain": [
       "<py3Dmol.view at 0x127769510>"
      ]
     },
     "execution_count": 10,
     "metadata": {},
     "output_type": "execute_result"
    }
   ],
   "source": [
    "ammonium = Ammonium(substituents=3,alkane=[3,1,4])\n",
    "ammonium.visualize(show_ports=True) "
   ]
  },
  {
   "cell_type": "code",
   "execution_count": 11,
   "id": "3a4b91ca",
   "metadata": {},
   "outputs": [
    {
     "data": {
      "application/3dmoljs_load.v0": "<div id=\"3dmolviewer_1732108576988244\"  style=\"position: relative; width: 640px; height: 480px;\">\n        <p id=\"3dmolwarning_1732108576988244\" style=\"background-color:#ffcccc;color:black\">3Dmol.js failed to load for some reason.  Please check your browser console for error messages.<br></p>\n        </div>\n<script>\n\nvar loadScriptAsync = function(uri){\n  return new Promise((resolve, reject) => {\n    //this is to ignore the existence of requirejs amd\n    var savedexports, savedmodule;\n    if (typeof exports !== 'undefined') savedexports = exports;\n    else exports = {}\n    if (typeof module !== 'undefined') savedmodule = module;\n    else module = {}\n\n    var tag = document.createElement('script');\n    tag.src = uri;\n    tag.async = true;\n    tag.onload = () => {\n        exports = savedexports;\n        module = savedmodule;\n        resolve();\n    };\n  var firstScriptTag = document.getElementsByTagName('script')[0];\n  firstScriptTag.parentNode.insertBefore(tag, firstScriptTag);\n});\n};\n\nif(typeof $3Dmolpromise === 'undefined') {\n$3Dmolpromise = null;\n  $3Dmolpromise = loadScriptAsync('https://cdnjs.cloudflare.com/ajax/libs/3Dmol/2.4.2/3Dmol-min.js');\n}\n\nvar viewer_1732108576988244 = null;\nvar warn = document.getElementById(\"3dmolwarning_1732108576988244\");\nif(warn) {\n    warn.parentNode.removeChild(warn);\n}\n$3Dmolpromise.then(function() {\nviewer_1732108576988244 = $3Dmol.createViewer(document.getElementById(\"3dmolviewer_1732108576988244\"),{backgroundColor:\"white\"});\nviewer_1732108576988244.zoomTo();\n\tviewer_1732108576988244.addModel(\"@<TRIPOS>MOLECULE\\nRES\\n14 13 1 0 1\\nSMALL\\nNO_CHARGES\\n@<TRIPOS>CRYSIN\\n   10.5776     7.7978     6.5987    90.0000    90.0000    90.0000 1 1\\n@<TRIPOS>ATOM\\n       1 N            0.0000     0.0000     0.0000 N             1 RES     \\n       2 C            3.9959    -0.4081    -0.0155 C             1 RES     \\n       3 H            4.1076     0.6862    -0.0203 H             1 RES     \\n       4 H            3.8841    -1.5024    -0.0108 H             1 RES     \\n       5 C            2.6031    -0.2659    -0.0101 C             1 RES     \\n       6 H            2.7149     0.8284    -0.0148 H             1 RES     \\n       7 H            2.4914    -1.3602    -0.0054 H             1 RES     \\n       8 C            1.2104    -0.1236    -0.0047 C             1 RES     \\n       9 H            1.3221     0.9707    -0.0094 H             1 RES     \\n      10 H            1.0986    -1.2179     0.0000 H             1 RES     \\n      11 C           -0.4827    -0.7653     0.8135 C             1 RES     \\n      12 H            0.1335    -0.3408     1.5784 H             1 RES     \\n      13 H           -0.5266    -1.8272     0.9388 H             1 RES     \\n      14 H           -1.4699    -0.3568     0.8827 H             1 RES     \\n@<TRIPOS>BOND\\n       1        1        8 1\\n       2        1       11 1\\n       3        2        3 1\\n       4        2        4 1\\n       5        2        5 1\\n       6        5        6 1\\n       7        5        7 1\\n       8        5        8 1\\n       9        8        9 1\\n      10        8       10 1\\n      11       11       12 1\\n      12       11       13 1\\n      13       11       14 1\\n@<TRIPOS>SUBSTRUCTURE\\n       1 RES             1 RESIDUE    0 **** ROOT      0\\n\",\"mol2\");\n\tviewer_1732108576988244.setStyle({\"stick\": {\"radius\": 0.18, \"color\": \"grey\"}, \"sphere\": {\"scale\": 0.3, \"colorscheme\": {}}});\n\tviewer_1732108576988244.zoomTo();\nviewer_1732108576988244.render();\n});\n</script>",
      "text/html": [
       "<div id=\"3dmolviewer_1732108576988244\"  style=\"position: relative; width: 640px; height: 480px;\">\n",
       "        <p id=\"3dmolwarning_1732108576988244\" style=\"background-color:#ffcccc;color:black\">3Dmol.js failed to load for some reason.  Please check your browser console for error messages.<br></p>\n",
       "        </div>\n",
       "<script>\n",
       "\n",
       "var loadScriptAsync = function(uri){\n",
       "  return new Promise((resolve, reject) => {\n",
       "    //this is to ignore the existence of requirejs amd\n",
       "    var savedexports, savedmodule;\n",
       "    if (typeof exports !== 'undefined') savedexports = exports;\n",
       "    else exports = {}\n",
       "    if (typeof module !== 'undefined') savedmodule = module;\n",
       "    else module = {}\n",
       "\n",
       "    var tag = document.createElement('script');\n",
       "    tag.src = uri;\n",
       "    tag.async = true;\n",
       "    tag.onload = () => {\n",
       "        exports = savedexports;\n",
       "        module = savedmodule;\n",
       "        resolve();\n",
       "    };\n",
       "  var firstScriptTag = document.getElementsByTagName('script')[0];\n",
       "  firstScriptTag.parentNode.insertBefore(tag, firstScriptTag);\n",
       "});\n",
       "};\n",
       "\n",
       "if(typeof $3Dmolpromise === 'undefined') {\n",
       "$3Dmolpromise = null;\n",
       "  $3Dmolpromise = loadScriptAsync('https://cdnjs.cloudflare.com/ajax/libs/3Dmol/2.4.2/3Dmol-min.js');\n",
       "}\n",
       "\n",
       "var viewer_1732108576988244 = null;\n",
       "var warn = document.getElementById(\"3dmolwarning_1732108576988244\");\n",
       "if(warn) {\n",
       "    warn.parentNode.removeChild(warn);\n",
       "}\n",
       "$3Dmolpromise.then(function() {\n",
       "viewer_1732108576988244 = $3Dmol.createViewer(document.getElementById(\"3dmolviewer_1732108576988244\"),{backgroundColor:\"white\"});\n",
       "viewer_1732108576988244.zoomTo();\n",
       "\tviewer_1732108576988244.addModel(\"@<TRIPOS>MOLECULE\\nRES\\n14 13 1 0 1\\nSMALL\\nNO_CHARGES\\n@<TRIPOS>CRYSIN\\n   10.5776     7.7978     6.5987    90.0000    90.0000    90.0000 1 1\\n@<TRIPOS>ATOM\\n       1 N            0.0000     0.0000     0.0000 N             1 RES     \\n       2 C            3.9959    -0.4081    -0.0155 C             1 RES     \\n       3 H            4.1076     0.6862    -0.0203 H             1 RES     \\n       4 H            3.8841    -1.5024    -0.0108 H             1 RES     \\n       5 C            2.6031    -0.2659    -0.0101 C             1 RES     \\n       6 H            2.7149     0.8284    -0.0148 H             1 RES     \\n       7 H            2.4914    -1.3602    -0.0054 H             1 RES     \\n       8 C            1.2104    -0.1236    -0.0047 C             1 RES     \\n       9 H            1.3221     0.9707    -0.0094 H             1 RES     \\n      10 H            1.0986    -1.2179     0.0000 H             1 RES     \\n      11 C           -0.4827    -0.7653     0.8135 C             1 RES     \\n      12 H            0.1335    -0.3408     1.5784 H             1 RES     \\n      13 H           -0.5266    -1.8272     0.9388 H             1 RES     \\n      14 H           -1.4699    -0.3568     0.8827 H             1 RES     \\n@<TRIPOS>BOND\\n       1        1        8 1\\n       2        1       11 1\\n       3        2        3 1\\n       4        2        4 1\\n       5        2        5 1\\n       6        5        6 1\\n       7        5        7 1\\n       8        5        8 1\\n       9        8        9 1\\n      10        8       10 1\\n      11       11       12 1\\n      12       11       13 1\\n      13       11       14 1\\n@<TRIPOS>SUBSTRUCTURE\\n       1 RES             1 RESIDUE    0 **** ROOT      0\\n\",\"mol2\");\n",
       "\tviewer_1732108576988244.setStyle({\"stick\": {\"radius\": 0.18, \"color\": \"grey\"}, \"sphere\": {\"scale\": 0.3, \"colorscheme\": {}}});\n",
       "\tviewer_1732108576988244.zoomTo();\n",
       "viewer_1732108576988244.render();\n",
       "});\n",
       "</script>"
      ]
     },
     "metadata": {},
     "output_type": "display_data"
    },
    {
     "data": {
      "text/plain": [
       "<py3Dmol.view at 0x12fcd4c50>"
      ]
     },
     "execution_count": 11,
     "metadata": {},
     "output_type": "execute_result"
    }
   ],
   "source": [
    "ch3_1 = CH3()\n",
    "ch3_2 = mb.recipes.Alkane(n=3,cap_front=False,cap_end=False)\n",
    "dimethylammonium = Ammonium(substituents=2, custom=[ch3_2,ch3_1], ports=[\"down\", \"up\"])\n",
    "dimethylammonium.visualize(show_ports=True)"
   ]
  },
  {
   "cell_type": "markdown",
   "id": "8b9f318c",
   "metadata": {},
   "source": []
  },
  {
   "cell_type": "markdown",
   "id": "9630d68c",
   "metadata": {},
   "source": [
    "Methacrylate\n",
    "-----------------"
   ]
  },
  {
   "cell_type": "code",
   "execution_count": 12,
   "id": "f62b8b01",
   "metadata": {},
   "outputs": [
    {
     "name": "stdout",
     "output_type": "stream",
     "text": [
      "OrderedDict([('up', <Port, anchor: 'C', labels: ['quaternary C']['port[3]'], ['up'], id: 4963154960>), ('down', <Port, anchor: 'C', labels: ['CH2']['down'], ['down'], id: 5097283984>), ('port[1]', <Port, anchor: 'O', labels: ['port[1]'], ['ester']['port[1]'], id: 5095818704>), ('quaternary C', <C 1 particles, 0 bonds, non-periodic, id: 5097276624>), ('CH2', <CH2 3 particles, 2 bonds, non-periodic, id: 4403536080>), ('methyl', <Alkane 4 particles, 3 bonds, non-periodic, id: 5097141264>), ('ester', <Ester 3 particles, 2 bonds, non-periodic, id: 4535769936>)])\n"
     ]
    },
    {
     "data": {
      "application/3dmoljs_load.v0": "<div id=\"3dmolviewer_1732108577113972\"  style=\"position: relative; width: 640px; height: 480px;\">\n        <p id=\"3dmolwarning_1732108577113972\" style=\"background-color:#ffcccc;color:black\">3Dmol.js failed to load for some reason.  Please check your browser console for error messages.<br></p>\n        </div>\n<script>\n\nvar loadScriptAsync = function(uri){\n  return new Promise((resolve, reject) => {\n    //this is to ignore the existence of requirejs amd\n    var savedexports, savedmodule;\n    if (typeof exports !== 'undefined') savedexports = exports;\n    else exports = {}\n    if (typeof module !== 'undefined') savedmodule = module;\n    else module = {}\n\n    var tag = document.createElement('script');\n    tag.src = uri;\n    tag.async = true;\n    tag.onload = () => {\n        exports = savedexports;\n        module = savedmodule;\n        resolve();\n    };\n  var firstScriptTag = document.getElementsByTagName('script')[0];\n  firstScriptTag.parentNode.insertBefore(tag, firstScriptTag);\n});\n};\n\nif(typeof $3Dmolpromise === 'undefined') {\n$3Dmolpromise = null;\n  $3Dmolpromise = loadScriptAsync('https://cdnjs.cloudflare.com/ajax/libs/3Dmol/2.4.2/3Dmol-min.js');\n}\n\nvar viewer_1732108577113972 = null;\nvar warn = document.getElementById(\"3dmolwarning_1732108577113972\");\nif(warn) {\n    warn.parentNode.removeChild(warn);\n}\n$3Dmolpromise.then(function() {\nviewer_1732108577113972 = $3Dmol.createViewer(document.getElementById(\"3dmolviewer_1732108577113972\"),{backgroundColor:\"white\"});\nviewer_1732108577113972.zoomTo();\n\tviewer_1732108577113972.addModel(\"@<TRIPOS>MOLECULE\\nRES\\n11 10 1 0 1\\nSMALL\\nNO_CHARGES\\n@<TRIPOS>CRYSIN\\n    7.8061     7.6091     8.8442    90.0000    90.0000    90.0000 1 1\\n@<TRIPOS>ATOM\\n       1 C            0.0000     0.0000     0.0000 C             1 RES     \\n       2 C            1.2104    -0.1236    -0.0047 C             1 RES     \\n       3 H            1.0986    -1.2179     0.0000 H             1 RES     \\n       4 H            1.3221     0.9707    -0.0094 H             1 RES     \\n       5 C           -0.4370    -0.2556    -1.1060 C             1 RES     \\n       6 H            0.4582     0.1288    -1.5485 H             1 RES     \\n       7 H           -1.2820     0.0483    -1.6881 H             1 RES     \\n       8 H           -0.3900    -1.3248    -1.0765 H             1 RES     \\n       9 C           -0.4440    -0.7039     0.7483 C             1 RES     \\n      10 O           -1.4840    -1.6385     0.4743 O             1 RES     \\n      11 O           -0.2407    -0.6512     2.1561 O             1 RES     \\n@<TRIPOS>BOND\\n       1        1        2 1\\n       2        1        5 1\\n       3        1        9 1\\n       4        2        3 1\\n       5        2        4 1\\n       6        5        6 1\\n       7        5        7 1\\n       8        5        8 1\\n       9        9       10 1\\n      10        9       11 1\\n@<TRIPOS>SUBSTRUCTURE\\n       1 RES             1 RESIDUE    0 **** ROOT      0\\n\",\"mol2\");\n\tviewer_1732108577113972.setStyle({\"stick\": {\"radius\": 0.18, \"color\": \"grey\"}, \"sphere\": {\"scale\": 0.3, \"colorscheme\": {}}});\n\tviewer_1732108577113972.zoomTo();\nviewer_1732108577113972.render();\n});\n</script>",
      "text/html": [
       "<div id=\"3dmolviewer_1732108577113972\"  style=\"position: relative; width: 640px; height: 480px;\">\n",
       "        <p id=\"3dmolwarning_1732108577113972\" style=\"background-color:#ffcccc;color:black\">3Dmol.js failed to load for some reason.  Please check your browser console for error messages.<br></p>\n",
       "        </div>\n",
       "<script>\n",
       "\n",
       "var loadScriptAsync = function(uri){\n",
       "  return new Promise((resolve, reject) => {\n",
       "    //this is to ignore the existence of requirejs amd\n",
       "    var savedexports, savedmodule;\n",
       "    if (typeof exports !== 'undefined') savedexports = exports;\n",
       "    else exports = {}\n",
       "    if (typeof module !== 'undefined') savedmodule = module;\n",
       "    else module = {}\n",
       "\n",
       "    var tag = document.createElement('script');\n",
       "    tag.src = uri;\n",
       "    tag.async = true;\n",
       "    tag.onload = () => {\n",
       "        exports = savedexports;\n",
       "        module = savedmodule;\n",
       "        resolve();\n",
       "    };\n",
       "  var firstScriptTag = document.getElementsByTagName('script')[0];\n",
       "  firstScriptTag.parentNode.insertBefore(tag, firstScriptTag);\n",
       "});\n",
       "};\n",
       "\n",
       "if(typeof $3Dmolpromise === 'undefined') {\n",
       "$3Dmolpromise = null;\n",
       "  $3Dmolpromise = loadScriptAsync('https://cdnjs.cloudflare.com/ajax/libs/3Dmol/2.4.2/3Dmol-min.js');\n",
       "}\n",
       "\n",
       "var viewer_1732108577113972 = null;\n",
       "var warn = document.getElementById(\"3dmolwarning_1732108577113972\");\n",
       "if(warn) {\n",
       "    warn.parentNode.removeChild(warn);\n",
       "}\n",
       "$3Dmolpromise.then(function() {\n",
       "viewer_1732108577113972 = $3Dmol.createViewer(document.getElementById(\"3dmolviewer_1732108577113972\"),{backgroundColor:\"white\"});\n",
       "viewer_1732108577113972.zoomTo();\n",
       "\tviewer_1732108577113972.addModel(\"@<TRIPOS>MOLECULE\\nRES\\n11 10 1 0 1\\nSMALL\\nNO_CHARGES\\n@<TRIPOS>CRYSIN\\n    7.8061     7.6091     8.8442    90.0000    90.0000    90.0000 1 1\\n@<TRIPOS>ATOM\\n       1 C            0.0000     0.0000     0.0000 C             1 RES     \\n       2 C            1.2104    -0.1236    -0.0047 C             1 RES     \\n       3 H            1.0986    -1.2179     0.0000 H             1 RES     \\n       4 H            1.3221     0.9707    -0.0094 H             1 RES     \\n       5 C           -0.4370    -0.2556    -1.1060 C             1 RES     \\n       6 H            0.4582     0.1288    -1.5485 H             1 RES     \\n       7 H           -1.2820     0.0483    -1.6881 H             1 RES     \\n       8 H           -0.3900    -1.3248    -1.0765 H             1 RES     \\n       9 C           -0.4440    -0.7039     0.7483 C             1 RES     \\n      10 O           -1.4840    -1.6385     0.4743 O             1 RES     \\n      11 O           -0.2407    -0.6512     2.1561 O             1 RES     \\n@<TRIPOS>BOND\\n       1        1        2 1\\n       2        1        5 1\\n       3        1        9 1\\n       4        2        3 1\\n       5        2        4 1\\n       6        5        6 1\\n       7        5        7 1\\n       8        5        8 1\\n       9        9       10 1\\n      10        9       11 1\\n@<TRIPOS>SUBSTRUCTURE\\n       1 RES             1 RESIDUE    0 **** ROOT      0\\n\",\"mol2\");\n",
       "\tviewer_1732108577113972.setStyle({\"stick\": {\"radius\": 0.18, \"color\": \"grey\"}, \"sphere\": {\"scale\": 0.3, \"colorscheme\": {}}});\n",
       "\tviewer_1732108577113972.zoomTo();\n",
       "viewer_1732108577113972.render();\n",
       "});\n",
       "</script>"
      ]
     },
     "metadata": {},
     "output_type": "display_data"
    },
    {
     "data": {
      "text/plain": [
       "<py3Dmol.view at 0x12fbc0790>"
      ]
     },
     "execution_count": 12,
     "metadata": {},
     "output_type": "execute_result"
    }
   ],
   "source": [
    "ch3_2 = mb.recipes.Alkane(n=3,cap_front=False,cap_end=False)\n",
    "#methacrylate = Methacrylate(functional_group=ch3_2, port_name=\"down\")\n",
    "methacrylate = Methacrylate(cap_branch=False)\n",
    "print(methacrylate.labels)\n",
    "methacrylate.visualize(show_ports=True)"
   ]
  },
  {
   "cell_type": "code",
   "execution_count": 13,
   "id": "d9b13e18",
   "metadata": {},
   "outputs": [
    {
     "name": "stdout",
     "output_type": "stream",
     "text": [
      "[<Port, anchor: 'C', labels: ['quaternary C']['port[3]'], ['up'], id: 4963154960>, <Port, anchor: 'C', labels: ['CH2']['down'], ['down'], id: 5097283984>, <Port, anchor: 'O', labels: ['port[1]'], ['ester']['port[1]'], id: 5095818704>]\n"
     ]
    }
   ],
   "source": [
    "print(methacrylate.all_ports())"
   ]
  },
  {
   "cell_type": "markdown",
   "id": "62ba032a",
   "metadata": {},
   "source": [
    "Acrylamide\n",
    "--------------"
   ]
  },
  {
   "cell_type": "code",
   "execution_count": 14,
   "id": "80235e1f",
   "metadata": {},
   "outputs": [
    {
     "data": {
      "application/3dmoljs_load.v0": "<div id=\"3dmolviewer_1732108577462942\"  style=\"position: relative; width: 640px; height: 480px;\">\n        <p id=\"3dmolwarning_1732108577462942\" style=\"background-color:#ffcccc;color:black\">3Dmol.js failed to load for some reason.  Please check your browser console for error messages.<br></p>\n        </div>\n<script>\n\nvar loadScriptAsync = function(uri){\n  return new Promise((resolve, reject) => {\n    //this is to ignore the existence of requirejs amd\n    var savedexports, savedmodule;\n    if (typeof exports !== 'undefined') savedexports = exports;\n    else exports = {}\n    if (typeof module !== 'undefined') savedmodule = module;\n    else module = {}\n\n    var tag = document.createElement('script');\n    tag.src = uri;\n    tag.async = true;\n    tag.onload = () => {\n        exports = savedexports;\n        module = savedmodule;\n        resolve();\n    };\n  var firstScriptTag = document.getElementsByTagName('script')[0];\n  firstScriptTag.parentNode.insertBefore(tag, firstScriptTag);\n});\n};\n\nif(typeof $3Dmolpromise === 'undefined') {\n$3Dmolpromise = null;\n  $3Dmolpromise = loadScriptAsync('https://cdnjs.cloudflare.com/ajax/libs/3Dmol/2.4.2/3Dmol-min.js');\n}\n\nvar viewer_1732108577462942 = null;\nvar warn = document.getElementById(\"3dmolwarning_1732108577462942\");\nif(warn) {\n    warn.parentNode.removeChild(warn);\n}\n$3Dmolpromise.then(function() {\nviewer_1732108577462942 = $3Dmol.createViewer(document.getElementById(\"3dmolviewer_1732108577462942\"),{backgroundColor:\"white\"});\nviewer_1732108577462942.zoomTo();\n\tviewer_1732108577462942.addModel(\"@<TRIPOS>MOLECULE\\nRES\\n12 11 1 0 1\\nSMALL\\nNO_CHARGES\\n@<TRIPOS>CRYSIN\\n    8.1383     7.9223     9.8845    90.0000    90.0000    90.0000 1 1\\n@<TRIPOS>ATOM\\n       1 C            0.0000     0.0000     0.0000 C             1 RES     \\n       2 C            1.2104    -0.1236    -0.0047 C             1 RES     \\n       3 H            1.0986    -1.2179     0.0000 H             1 RES     \\n       4 H            1.3221     0.9707    -0.0094 H             1 RES     \\n       5 H           -0.4370    -0.2556    -1.1060 H             1 RES     \\n       6 C           -0.4828    -0.7654     0.8136 C             1 RES     \\n       7 O           -1.8162    -1.3059     0.4061 O             1 RES     \\n       8 N           -0.0642    -0.7297     2.1275 N             1 RES     \\n       9 H           -0.1849     0.2058     2.5148 H             1 RES     \\n      10 C           -0.9063    -1.6821     2.8294 C             1 RES     \\n      11 H           -1.3927    -1.9516     1.8803 H             1 RES     \\n      12 H           -0.4200    -1.4126     3.7785 H             1 RES     \\n@<TRIPOS>BOND\\n       1        1        2 1\\n       2        1        5 1\\n       3        1        6 1\\n       4        2        3 1\\n       5        2        4 1\\n       6        6        7 1\\n       7        6        8 1\\n       8        8        9 1\\n       9        8       10 1\\n      10       10       11 1\\n      11       10       12 1\\n@<TRIPOS>SUBSTRUCTURE\\n       1 RES             1 RESIDUE    0 **** ROOT      0\\n\",\"mol2\");\n\tviewer_1732108577462942.setStyle({\"stick\": {\"radius\": 0.18, \"color\": \"grey\"}, \"sphere\": {\"scale\": 0.3, \"colorscheme\": {}}});\n\tviewer_1732108577462942.zoomTo();\nviewer_1732108577462942.render();\n});\n</script>",
      "text/html": [
       "<div id=\"3dmolviewer_1732108577462942\"  style=\"position: relative; width: 640px; height: 480px;\">\n",
       "        <p id=\"3dmolwarning_1732108577462942\" style=\"background-color:#ffcccc;color:black\">3Dmol.js failed to load for some reason.  Please check your browser console for error messages.<br></p>\n",
       "        </div>\n",
       "<script>\n",
       "\n",
       "var loadScriptAsync = function(uri){\n",
       "  return new Promise((resolve, reject) => {\n",
       "    //this is to ignore the existence of requirejs amd\n",
       "    var savedexports, savedmodule;\n",
       "    if (typeof exports !== 'undefined') savedexports = exports;\n",
       "    else exports = {}\n",
       "    if (typeof module !== 'undefined') savedmodule = module;\n",
       "    else module = {}\n",
       "\n",
       "    var tag = document.createElement('script');\n",
       "    tag.src = uri;\n",
       "    tag.async = true;\n",
       "    tag.onload = () => {\n",
       "        exports = savedexports;\n",
       "        module = savedmodule;\n",
       "        resolve();\n",
       "    };\n",
       "  var firstScriptTag = document.getElementsByTagName('script')[0];\n",
       "  firstScriptTag.parentNode.insertBefore(tag, firstScriptTag);\n",
       "});\n",
       "};\n",
       "\n",
       "if(typeof $3Dmolpromise === 'undefined') {\n",
       "$3Dmolpromise = null;\n",
       "  $3Dmolpromise = loadScriptAsync('https://cdnjs.cloudflare.com/ajax/libs/3Dmol/2.4.2/3Dmol-min.js');\n",
       "}\n",
       "\n",
       "var viewer_1732108577462942 = null;\n",
       "var warn = document.getElementById(\"3dmolwarning_1732108577462942\");\n",
       "if(warn) {\n",
       "    warn.parentNode.removeChild(warn);\n",
       "}\n",
       "$3Dmolpromise.then(function() {\n",
       "viewer_1732108577462942 = $3Dmol.createViewer(document.getElementById(\"3dmolviewer_1732108577462942\"),{backgroundColor:\"white\"});\n",
       "viewer_1732108577462942.zoomTo();\n",
       "\tviewer_1732108577462942.addModel(\"@<TRIPOS>MOLECULE\\nRES\\n12 11 1 0 1\\nSMALL\\nNO_CHARGES\\n@<TRIPOS>CRYSIN\\n    8.1383     7.9223     9.8845    90.0000    90.0000    90.0000 1 1\\n@<TRIPOS>ATOM\\n       1 C            0.0000     0.0000     0.0000 C             1 RES     \\n       2 C            1.2104    -0.1236    -0.0047 C             1 RES     \\n       3 H            1.0986    -1.2179     0.0000 H             1 RES     \\n       4 H            1.3221     0.9707    -0.0094 H             1 RES     \\n       5 H           -0.4370    -0.2556    -1.1060 H             1 RES     \\n       6 C           -0.4828    -0.7654     0.8136 C             1 RES     \\n       7 O           -1.8162    -1.3059     0.4061 O             1 RES     \\n       8 N           -0.0642    -0.7297     2.1275 N             1 RES     \\n       9 H           -0.1849     0.2058     2.5148 H             1 RES     \\n      10 C           -0.9063    -1.6821     2.8294 C             1 RES     \\n      11 H           -1.3927    -1.9516     1.8803 H             1 RES     \\n      12 H           -0.4200    -1.4126     3.7785 H             1 RES     \\n@<TRIPOS>BOND\\n       1        1        2 1\\n       2        1        5 1\\n       3        1        6 1\\n       4        2        3 1\\n       5        2        4 1\\n       6        6        7 1\\n       7        6        8 1\\n       8        8        9 1\\n       9        8       10 1\\n      10       10       11 1\\n      11       10       12 1\\n@<TRIPOS>SUBSTRUCTURE\\n       1 RES             1 RESIDUE    0 **** ROOT      0\\n\",\"mol2\");\n",
       "\tviewer_1732108577462942.setStyle({\"stick\": {\"radius\": 0.18, \"color\": \"grey\"}, \"sphere\": {\"scale\": 0.3, \"colorscheme\": {}}});\n",
       "\tviewer_1732108577462942.zoomTo();\n",
       "viewer_1732108577462942.render();\n",
       "});\n",
       "</script>"
      ]
     },
     "metadata": {},
     "output_type": "display_data"
    },
    {
     "data": {
      "text/plain": [
       "<py3Dmol.view at 0x12fd6a710>"
      ]
     },
     "execution_count": 14,
     "metadata": {},
     "output_type": "execute_result"
    }
   ],
   "source": [
    "ch3_2 = mb.recipes.Alkane(n=1,cap_front=False,cap_end=False)\n",
    "acrylamide = Acrylamide(functional_group=ch3_2, port_name=\"down\")\n",
    "acrylamide.visualize(show_ports=True)"
   ]
  }
 ],
 "metadata": {
  "kernelspec": {
   "display_name": "Python 3",
   "language": "python",
   "name": "python3"
  },
  "language_info": {
   "codemirror_mode": {
    "name": "ipython",
    "version": 3
   },
   "file_extension": ".py",
   "mimetype": "text/x-python",
   "name": "python",
   "nbconvert_exporter": "python",
   "pygments_lexer": "ipython3",
   "version": "3.11.10"
  }
 },
 "nbformat": 4,
 "nbformat_minor": 5
}
