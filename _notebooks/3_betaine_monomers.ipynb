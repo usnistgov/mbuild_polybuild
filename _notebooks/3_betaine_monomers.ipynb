{
 "cells": [
  {
   "cell_type": "markdown",
   "id": "488ed5ff",
   "metadata": {},
   "source": [
    "Betaine Monomers\n",
    "=================\n",
    "In the `functional_groups` document we created template `Compounds` for the key groups in out polybetaines of interest. Now let's assemble them."
   ]
  },
  {
   "cell_type": "code",
   "execution_count": 1,
   "id": "0d442a2a",
   "metadata": {},
   "outputs": [
    {
     "name": "stdout",
     "output_type": "stream",
     "text": [
      "[<Port, anchor: 'C', labels: ['quaternary C']['port[3]'], ['up'], id: 5133327696>, <Port, anchor: 'C', labels: ['down'], ['CH2']['down'], id: 5133327760>, <Port, anchor: 'O', labels: ['ester']['port[1]'], ['port[1]'], id: 5133200720>]\n"
     ]
    },
    {
     "data": {
      "text/plain": [
       "<Port, anchor: 'O', labels: ['ester']['port[1]'], ['port[1]'], id: 5133200720>"
      ]
     },
     "execution_count": 1,
     "metadata": {},
     "output_type": "execute_result"
    }
   ],
   "source": [
    "from mbuild_polybuild.aa_monomers import Sbma, Sbaa, Cbma, Methacrylate\n",
    "\n",
    "test = Methacrylate(cap_branch=False)\n",
    "print(test.all_ports())\n",
    "test[\"port[1]\"]"
   ]
  },
  {
   "cell_type": "markdown",
   "id": "8f14034b",
   "metadata": {},
   "source": [
    "Sulfobetaine Methacrylate (SBMA)\n",
    "----------------------------------------"
   ]
  },
  {
   "cell_type": "code",
   "execution_count": 2,
   "id": "1f7b9aa6",
   "metadata": {},
   "outputs": [
    {
     "name": "stdout",
     "output_type": "stream",
     "text": [
      "[<Port, anchor: 'C', labels: ['up'], ['methacrylate']['up'], id: 5133126416>, <Port, anchor: 'C', labels: ['down'], ['methacrylate']['down'], id: 5043872080>]\n"
     ]
    },
    {
     "name": "stderr",
     "output_type": "stream",
     "text": [
      "/Users/jac16/bin/mbuild/mbuild/compound.py:553: UserWarning: Some particle of <Sbma 36 particles, 35 bonds, non-periodic, id: 5133261072> does not have a charge.They will not be accounted for during this calculation.\n",
      "  warn(\n"
     ]
    },
    {
     "data": {
      "application/3dmoljs_load.v0": "<div id=\"3dmolviewer_17320561971913931\"  style=\"position: relative; width: 640px; height: 480px;\">\n        <p id=\"3dmolwarning_17320561971913931\" style=\"background-color:#ffcccc;color:black\">3Dmol.js failed to load for some reason.  Please check your browser console for error messages.<br></p>\n        </div>\n<script>\n\nvar loadScriptAsync = function(uri){\n  return new Promise((resolve, reject) => {\n    //this is to ignore the existence of requirejs amd\n    var savedexports, savedmodule;\n    if (typeof exports !== 'undefined') savedexports = exports;\n    else exports = {}\n    if (typeof module !== 'undefined') savedmodule = module;\n    else module = {}\n\n    var tag = document.createElement('script');\n    tag.src = uri;\n    tag.async = true;\n    tag.onload = () => {\n        exports = savedexports;\n        module = savedmodule;\n        resolve();\n    };\n  var firstScriptTag = document.getElementsByTagName('script')[0];\n  firstScriptTag.parentNode.insertBefore(tag, firstScriptTag);\n});\n};\n\nif(typeof $3Dmolpromise === 'undefined') {\n$3Dmolpromise = null;\n  $3Dmolpromise = loadScriptAsync('https://cdnjs.cloudflare.com/ajax/libs/3Dmol/2.4.2/3Dmol-min.js');\n}\n\nvar viewer_17320561971913931 = null;\nvar warn = document.getElementById(\"3dmolwarning_17320561971913931\");\nif(warn) {\n    warn.parentNode.removeChild(warn);\n}\n$3Dmolpromise.then(function() {\nviewer_17320561971913931 = $3Dmol.createViewer(document.getElementById(\"3dmolviewer_17320561971913931\"),{backgroundColor:\"white\"});\nviewer_17320561971913931.zoomTo();\n\tviewer_17320561971913931.addModel(\"@<TRIPOS>MOLECULE\\nRES\\n36 35 1 0 1\\nSMALL\\nNO_CHARGES\\n@<TRIPOS>CRYSIN\\n   13.5248    10.7805    12.4550    90.0000    90.0000    90.0000 1 1\\n@<TRIPOS>ATOM\\n       1 C            0.0000     0.0000     0.0000 C             1 RES     \\n       2 C            1.2104    -0.1236    -0.0047 C             1 RES     \\n       3 H            1.0986    -1.2179     0.0000 H             1 RES     \\n       4 H            1.3221     0.9707    -0.0094 H             1 RES     \\n       5 C           -0.4370    -0.2556    -1.1060 C             1 RES     \\n       6 H            0.4582     0.1288    -1.5485 H             1 RES     \\n       7 H           -1.2820     0.0483    -1.6881 H             1 RES     \\n       8 H           -0.3900    -1.3248    -1.0765 H             1 RES     \\n       9 C           -0.4440    -0.7039     0.7483 C             1 RES     \\n      10 O           -1.4840    -1.6385     0.4743 O             1 RES     \\n      11 O           -0.2407    -0.6512     2.1561 O             1 RES     \\n      12 C           -1.0079    -1.4077     2.6534 C             1 RES     \\n      13 H           -0.6208    -1.1457     3.6491 H             1 RES     \\n      14 H           -1.3949    -1.6697     1.6576 H             1 RES     \\n      15 C           -1.9130    -2.3002     3.2400 C             1 RES     \\n      16 H           -1.5259    -2.0382     4.2358 H             1 RES     \\n      17 H           -2.3000    -2.5623     2.2443 H             1 RES     \\n      18 N           -2.6994    -3.0757     3.7497 N             1 RES     \\n      19 C           -2.7105    -2.9071     4.9546 C             1 RES     \\n      20 H           -1.7673    -3.4063     5.0332 H             1 RES     \\n      21 H           -3.3405    -3.2044     5.7669 H             1 RES     \\n      22 H           -2.5579    -1.8480     4.9906 H             1 RES     \\n      23 C           -2.3601    -4.2179     3.5031 C             1 RES     \\n      24 H           -3.1530    -4.5865     4.1198 H             1 RES     \\n      25 H           -1.4822    -4.8099     3.6585 H             1 RES     \\n      26 H           -2.6517    -4.2752     2.4746 H             1 RES     \\n      27 C           -3.8130    -2.8775     3.3022 C             1 RES     \\n      28 H           -4.1659    -2.5955     4.3051 H             1 RES     \\n      29 H           -3.4601    -3.1595     2.2992 H             1 RES     \\n      30 C           -5.0946    -2.6494     2.7871 C             1 RES     \\n      31 H           -5.4475    -2.3674     3.7901 H             1 RES     \\n      32 H           -4.7418    -2.9314     1.7841 H             1 RES     \\n      33 S           -6.3574    -2.4247     2.2796 S             1 RES     \\n      34 O           -7.2027    -2.0475     3.3784 O             1 RES     \\n      35 O           -6.7061    -3.5593     1.4724 O             1 RES     \\n      36 O           -6.2012    -1.1667     1.3237 O             1 RES     \\n@<TRIPOS>BOND\\n       1        1        2 1\\n       2        1        5 1\\n       3        1        9 1\\n       4        2        3 1\\n       5        2        4 1\\n       6        5        6 1\\n       7        5        7 1\\n       8        5        8 1\\n       9        9       10 1\\n      10        9       11 1\\n      11       11       12 1\\n      12       12       13 1\\n      13       12       14 1\\n      14       12       15 1\\n      15       15       16 1\\n      16       15       17 1\\n      17       15       18 1\\n      18       18       19 1\\n      19       18       23 1\\n      20       18       27 1\\n      21       19       20 1\\n      22       19       21 1\\n      23       19       22 1\\n      24       23       24 1\\n      25       23       25 1\\n      26       23       26 1\\n      27       27       28 1\\n      28       27       29 1\\n      29       27       30 1\\n      30       30       31 1\\n      31       30       32 1\\n      32       30       33 1\\n      33       33       34 1\\n      34       33       35 1\\n      35       33       36 1\\n@<TRIPOS>SUBSTRUCTURE\\n       1 RES             1 RESIDUE    0 **** ROOT      0\\n\",\"mol2\");\n\tviewer_17320561971913931.setStyle({\"stick\": {\"radius\": 0.18, \"color\": \"grey\"}, \"sphere\": {\"scale\": 0.3, \"colorscheme\": {}}});\n\tviewer_17320561971913931.zoomTo();\nviewer_17320561971913931.render();\n});\n</script>",
      "text/html": [
       "<div id=\"3dmolviewer_17320561971913931\"  style=\"position: relative; width: 640px; height: 480px;\">\n",
       "        <p id=\"3dmolwarning_17320561971913931\" style=\"background-color:#ffcccc;color:black\">3Dmol.js failed to load for some reason.  Please check your browser console for error messages.<br></p>\n",
       "        </div>\n",
       "<script>\n",
       "\n",
       "var loadScriptAsync = function(uri){\n",
       "  return new Promise((resolve, reject) => {\n",
       "    //this is to ignore the existence of requirejs amd\n",
       "    var savedexports, savedmodule;\n",
       "    if (typeof exports !== 'undefined') savedexports = exports;\n",
       "    else exports = {}\n",
       "    if (typeof module !== 'undefined') savedmodule = module;\n",
       "    else module = {}\n",
       "\n",
       "    var tag = document.createElement('script');\n",
       "    tag.src = uri;\n",
       "    tag.async = true;\n",
       "    tag.onload = () => {\n",
       "        exports = savedexports;\n",
       "        module = savedmodule;\n",
       "        resolve();\n",
       "    };\n",
       "  var firstScriptTag = document.getElementsByTagName('script')[0];\n",
       "  firstScriptTag.parentNode.insertBefore(tag, firstScriptTag);\n",
       "});\n",
       "};\n",
       "\n",
       "if(typeof $3Dmolpromise === 'undefined') {\n",
       "$3Dmolpromise = null;\n",
       "  $3Dmolpromise = loadScriptAsync('https://cdnjs.cloudflare.com/ajax/libs/3Dmol/2.4.2/3Dmol-min.js');\n",
       "}\n",
       "\n",
       "var viewer_17320561971913931 = null;\n",
       "var warn = document.getElementById(\"3dmolwarning_17320561971913931\");\n",
       "if(warn) {\n",
       "    warn.parentNode.removeChild(warn);\n",
       "}\n",
       "$3Dmolpromise.then(function() {\n",
       "viewer_17320561971913931 = $3Dmol.createViewer(document.getElementById(\"3dmolviewer_17320561971913931\"),{backgroundColor:\"white\"});\n",
       "viewer_17320561971913931.zoomTo();\n",
       "\tviewer_17320561971913931.addModel(\"@<TRIPOS>MOLECULE\\nRES\\n36 35 1 0 1\\nSMALL\\nNO_CHARGES\\n@<TRIPOS>CRYSIN\\n   13.5248    10.7805    12.4550    90.0000    90.0000    90.0000 1 1\\n@<TRIPOS>ATOM\\n       1 C            0.0000     0.0000     0.0000 C             1 RES     \\n       2 C            1.2104    -0.1236    -0.0047 C             1 RES     \\n       3 H            1.0986    -1.2179     0.0000 H             1 RES     \\n       4 H            1.3221     0.9707    -0.0094 H             1 RES     \\n       5 C           -0.4370    -0.2556    -1.1060 C             1 RES     \\n       6 H            0.4582     0.1288    -1.5485 H             1 RES     \\n       7 H           -1.2820     0.0483    -1.6881 H             1 RES     \\n       8 H           -0.3900    -1.3248    -1.0765 H             1 RES     \\n       9 C           -0.4440    -0.7039     0.7483 C             1 RES     \\n      10 O           -1.4840    -1.6385     0.4743 O             1 RES     \\n      11 O           -0.2407    -0.6512     2.1561 O             1 RES     \\n      12 C           -1.0079    -1.4077     2.6534 C             1 RES     \\n      13 H           -0.6208    -1.1457     3.6491 H             1 RES     \\n      14 H           -1.3949    -1.6697     1.6576 H             1 RES     \\n      15 C           -1.9130    -2.3002     3.2400 C             1 RES     \\n      16 H           -1.5259    -2.0382     4.2358 H             1 RES     \\n      17 H           -2.3000    -2.5623     2.2443 H             1 RES     \\n      18 N           -2.6994    -3.0757     3.7497 N             1 RES     \\n      19 C           -2.7105    -2.9071     4.9546 C             1 RES     \\n      20 H           -1.7673    -3.4063     5.0332 H             1 RES     \\n      21 H           -3.3405    -3.2044     5.7669 H             1 RES     \\n      22 H           -2.5579    -1.8480     4.9906 H             1 RES     \\n      23 C           -2.3601    -4.2179     3.5031 C             1 RES     \\n      24 H           -3.1530    -4.5865     4.1198 H             1 RES     \\n      25 H           -1.4822    -4.8099     3.6585 H             1 RES     \\n      26 H           -2.6517    -4.2752     2.4746 H             1 RES     \\n      27 C           -3.8130    -2.8775     3.3022 C             1 RES     \\n      28 H           -4.1659    -2.5955     4.3051 H             1 RES     \\n      29 H           -3.4601    -3.1595     2.2992 H             1 RES     \\n      30 C           -5.0946    -2.6494     2.7871 C             1 RES     \\n      31 H           -5.4475    -2.3674     3.7901 H             1 RES     \\n      32 H           -4.7418    -2.9314     1.7841 H             1 RES     \\n      33 S           -6.3574    -2.4247     2.2796 S             1 RES     \\n      34 O           -7.2027    -2.0475     3.3784 O             1 RES     \\n      35 O           -6.7061    -3.5593     1.4724 O             1 RES     \\n      36 O           -6.2012    -1.1667     1.3237 O             1 RES     \\n@<TRIPOS>BOND\\n       1        1        2 1\\n       2        1        5 1\\n       3        1        9 1\\n       4        2        3 1\\n       5        2        4 1\\n       6        5        6 1\\n       7        5        7 1\\n       8        5        8 1\\n       9        9       10 1\\n      10        9       11 1\\n      11       11       12 1\\n      12       12       13 1\\n      13       12       14 1\\n      14       12       15 1\\n      15       15       16 1\\n      16       15       17 1\\n      17       15       18 1\\n      18       18       19 1\\n      19       18       23 1\\n      20       18       27 1\\n      21       19       20 1\\n      22       19       21 1\\n      23       19       22 1\\n      24       23       24 1\\n      25       23       25 1\\n      26       23       26 1\\n      27       27       28 1\\n      28       27       29 1\\n      29       27       30 1\\n      30       30       31 1\\n      31       30       32 1\\n      32       30       33 1\\n      33       33       34 1\\n      34       33       35 1\\n      35       33       36 1\\n@<TRIPOS>SUBSTRUCTURE\\n       1 RES             1 RESIDUE    0 **** ROOT      0\\n\",\"mol2\");\n",
       "\tviewer_17320561971913931.setStyle({\"stick\": {\"radius\": 0.18, \"color\": \"grey\"}, \"sphere\": {\"scale\": 0.3, \"colorscheme\": {}}});\n",
       "\tviewer_17320561971913931.zoomTo();\n",
       "viewer_17320561971913931.render();\n",
       "});\n",
       "</script>"
      ]
     },
     "metadata": {},
     "output_type": "display_data"
    },
    {
     "data": {
      "text/plain": [
       "<py3Dmol.view at 0x131f28790>"
      ]
     },
     "execution_count": 2,
     "metadata": {},
     "output_type": "execute_result"
    }
   ],
   "source": [
    "sbma = Sbma()\n",
    "print(sbma.all_ports())\n",
    "sbma.visualize(show_ports=True)"
   ]
  },
  {
   "cell_type": "code",
   "execution_count": 3,
   "id": "b4251b8e",
   "metadata": {},
   "outputs": [
    {
     "data": {
      "text/plain": [
       "[<Port, anchor: 'C', labels: ['up'], ['methacrylate']['up'], id: 5133126416>,\n",
       " <Port, anchor: 'C', labels: ['down'], ['methacrylate']['down'], id: 5043872080>]"
      ]
     },
     "execution_count": 3,
     "metadata": {},
     "output_type": "execute_result"
    }
   ],
   "source": [
    "sbma.all_ports()"
   ]
  },
  {
   "cell_type": "markdown",
   "id": "f18b9b51",
   "metadata": {},
   "source": [
    "Carboxybetaine Methacrylate (CBMA)\n",
    "============================"
   ]
  },
  {
   "cell_type": "code",
   "execution_count": 4,
   "id": "b8bcceb8",
   "metadata": {},
   "outputs": [
    {
     "name": "stderr",
     "output_type": "stream",
     "text": [
      "/Users/jac16/bin/mbuild/mbuild/compound.py:553: UserWarning: Some particle of <Cbma 32 particles, 31 bonds, non-periodic, id: 5134703824> does not have a charge.They will not be accounted for during this calculation.\n",
      "  warn(\n"
     ]
    },
    {
     "data": {
      "application/3dmoljs_load.v0": "<div id=\"3dmolviewer_1732056197545692\"  style=\"position: relative; width: 640px; height: 480px;\">\n        <p id=\"3dmolwarning_1732056197545692\" style=\"background-color:#ffcccc;color:black\">3Dmol.js failed to load for some reason.  Please check your browser console for error messages.<br></p>\n        </div>\n<script>\n\nvar loadScriptAsync = function(uri){\n  return new Promise((resolve, reject) => {\n    //this is to ignore the existence of requirejs amd\n    var savedexports, savedmodule;\n    if (typeof exports !== 'undefined') savedexports = exports;\n    else exports = {}\n    if (typeof module !== 'undefined') savedmodule = module;\n    else module = {}\n\n    var tag = document.createElement('script');\n    tag.src = uri;\n    tag.async = true;\n    tag.onload = () => {\n        exports = savedexports;\n        module = savedmodule;\n        resolve();\n    };\n  var firstScriptTag = document.getElementsByTagName('script')[0];\n  firstScriptTag.parentNode.insertBefore(tag, firstScriptTag);\n});\n};\n\nif(typeof $3Dmolpromise === 'undefined') {\n$3Dmolpromise = null;\n  $3Dmolpromise = loadScriptAsync('https://cdnjs.cloudflare.com/ajax/libs/3Dmol/2.4.2/3Dmol-min.js');\n}\n\nvar viewer_1732056197545692 = null;\nvar warn = document.getElementById(\"3dmolwarning_1732056197545692\");\nif(warn) {\n    warn.parentNode.removeChild(warn);\n}\n$3Dmolpromise.then(function() {\nviewer_1732056197545692 = $3Dmol.createViewer(document.getElementById(\"3dmolviewer_1732056197545692\"),{backgroundColor:\"white\"});\nviewer_1732056197545692.zoomTo();\n\tviewer_1732056197545692.addModel(\"@<TRIPOS>MOLECULE\\nRES\\n32 31 1 0 1\\nSMALL\\nNO_CHARGES\\n@<TRIPOS>CRYSIN\\n   12.7854     9.8880    11.8684    90.0000    90.0000    90.0000 1 1\\n@<TRIPOS>ATOM\\n       1 C            0.0000     0.0000     0.0000 C             1 RES     \\n       2 C            1.2104    -0.1236    -0.0047 C             1 RES     \\n       3 H            1.0986    -1.2179     0.0000 H             1 RES     \\n       4 H            1.3221     0.9707    -0.0094 H             1 RES     \\n       5 C           -0.4370    -0.2556    -1.1060 C             1 RES     \\n       6 H            0.4582     0.1288    -1.5485 H             1 RES     \\n       7 H           -1.2820     0.0483    -1.6881 H             1 RES     \\n       8 H           -0.3900    -1.3248    -1.0765 H             1 RES     \\n       9 C           -0.4440    -0.7039     0.7483 C             1 RES     \\n      10 O           -1.4840    -1.6385     0.4743 O             1 RES     \\n      11 O           -0.2407    -0.6512     2.1561 O             1 RES     \\n      12 C           -1.0079    -1.4077     2.6534 C             1 RES     \\n      13 H           -0.6208    -1.1457     3.6491 H             1 RES     \\n      14 H           -1.3949    -1.6697     1.6576 H             1 RES     \\n      15 N           -1.7942    -2.1832     3.1631 N             1 RES     \\n      16 C           -1.8054    -2.0145     4.3679 C             1 RES     \\n      17 H           -0.8622    -2.5137     4.4465 H             1 RES     \\n      18 H           -2.4354    -2.3118     5.1803 H             1 RES     \\n      19 H           -1.6528    -0.9554     4.4039 H             1 RES     \\n      20 C           -1.4550    -3.3253     2.9165 C             1 RES     \\n      21 H           -2.2479    -3.6940     3.5332 H             1 RES     \\n      22 H           -0.5771    -3.9173     3.0719 H             1 RES     \\n      23 H           -1.7465    -3.3827     1.8879 H             1 RES     \\n      24 C           -2.9079    -1.9850     2.7155 C             1 RES     \\n      25 H           -3.2608    -1.7030     3.7185 H             1 RES     \\n      26 H           -2.5550    -2.2670     1.7125 H             1 RES     \\n      27 C           -4.1895    -1.7569     2.2004 C             1 RES     \\n      28 H           -4.5424    -1.4749     3.2034 H             1 RES     \\n      29 H           -3.8366    -2.0389     1.1975 H             1 RES     \\n      30 C           -5.3819    -1.5447     1.7213 C             1 RES     \\n      31 O           -5.7409    -1.6508     0.3465 O             1 RES     \\n      32 O           -6.4633    -0.9466     2.4277 O             1 RES     \\n@<TRIPOS>BOND\\n       1        1        2 1\\n       2        1        5 1\\n       3        1        9 1\\n       4        2        3 1\\n       5        2        4 1\\n       6        5        6 1\\n       7        5        7 1\\n       8        5        8 1\\n       9        9       10 1\\n      10        9       11 1\\n      11       11       12 1\\n      12       12       13 1\\n      13       12       14 1\\n      14       12       15 1\\n      15       15       16 1\\n      16       15       20 1\\n      17       15       24 1\\n      18       16       17 1\\n      19       16       18 1\\n      20       16       19 1\\n      21       20       21 1\\n      22       20       22 1\\n      23       20       23 1\\n      24       24       25 1\\n      25       24       26 1\\n      26       24       27 1\\n      27       27       28 1\\n      28       27       29 1\\n      29       27       30 1\\n      30       30       31 1\\n      31       30       32 1\\n@<TRIPOS>SUBSTRUCTURE\\n       1 RES             1 RESIDUE    0 **** ROOT      0\\n\",\"mol2\");\n\tviewer_1732056197545692.setStyle({\"stick\": {\"radius\": 0.18, \"color\": \"grey\"}, \"sphere\": {\"scale\": 0.3, \"colorscheme\": {}}});\n\tviewer_1732056197545692.zoomTo();\nviewer_1732056197545692.render();\n});\n</script>",
      "text/html": [
       "<div id=\"3dmolviewer_1732056197545692\"  style=\"position: relative; width: 640px; height: 480px;\">\n",
       "        <p id=\"3dmolwarning_1732056197545692\" style=\"background-color:#ffcccc;color:black\">3Dmol.js failed to load for some reason.  Please check your browser console for error messages.<br></p>\n",
       "        </div>\n",
       "<script>\n",
       "\n",
       "var loadScriptAsync = function(uri){\n",
       "  return new Promise((resolve, reject) => {\n",
       "    //this is to ignore the existence of requirejs amd\n",
       "    var savedexports, savedmodule;\n",
       "    if (typeof exports !== 'undefined') savedexports = exports;\n",
       "    else exports = {}\n",
       "    if (typeof module !== 'undefined') savedmodule = module;\n",
       "    else module = {}\n",
       "\n",
       "    var tag = document.createElement('script');\n",
       "    tag.src = uri;\n",
       "    tag.async = true;\n",
       "    tag.onload = () => {\n",
       "        exports = savedexports;\n",
       "        module = savedmodule;\n",
       "        resolve();\n",
       "    };\n",
       "  var firstScriptTag = document.getElementsByTagName('script')[0];\n",
       "  firstScriptTag.parentNode.insertBefore(tag, firstScriptTag);\n",
       "});\n",
       "};\n",
       "\n",
       "if(typeof $3Dmolpromise === 'undefined') {\n",
       "$3Dmolpromise = null;\n",
       "  $3Dmolpromise = loadScriptAsync('https://cdnjs.cloudflare.com/ajax/libs/3Dmol/2.4.2/3Dmol-min.js');\n",
       "}\n",
       "\n",
       "var viewer_1732056197545692 = null;\n",
       "var warn = document.getElementById(\"3dmolwarning_1732056197545692\");\n",
       "if(warn) {\n",
       "    warn.parentNode.removeChild(warn);\n",
       "}\n",
       "$3Dmolpromise.then(function() {\n",
       "viewer_1732056197545692 = $3Dmol.createViewer(document.getElementById(\"3dmolviewer_1732056197545692\"),{backgroundColor:\"white\"});\n",
       "viewer_1732056197545692.zoomTo();\n",
       "\tviewer_1732056197545692.addModel(\"@<TRIPOS>MOLECULE\\nRES\\n32 31 1 0 1\\nSMALL\\nNO_CHARGES\\n@<TRIPOS>CRYSIN\\n   12.7854     9.8880    11.8684    90.0000    90.0000    90.0000 1 1\\n@<TRIPOS>ATOM\\n       1 C            0.0000     0.0000     0.0000 C             1 RES     \\n       2 C            1.2104    -0.1236    -0.0047 C             1 RES     \\n       3 H            1.0986    -1.2179     0.0000 H             1 RES     \\n       4 H            1.3221     0.9707    -0.0094 H             1 RES     \\n       5 C           -0.4370    -0.2556    -1.1060 C             1 RES     \\n       6 H            0.4582     0.1288    -1.5485 H             1 RES     \\n       7 H           -1.2820     0.0483    -1.6881 H             1 RES     \\n       8 H           -0.3900    -1.3248    -1.0765 H             1 RES     \\n       9 C           -0.4440    -0.7039     0.7483 C             1 RES     \\n      10 O           -1.4840    -1.6385     0.4743 O             1 RES     \\n      11 O           -0.2407    -0.6512     2.1561 O             1 RES     \\n      12 C           -1.0079    -1.4077     2.6534 C             1 RES     \\n      13 H           -0.6208    -1.1457     3.6491 H             1 RES     \\n      14 H           -1.3949    -1.6697     1.6576 H             1 RES     \\n      15 N           -1.7942    -2.1832     3.1631 N             1 RES     \\n      16 C           -1.8054    -2.0145     4.3679 C             1 RES     \\n      17 H           -0.8622    -2.5137     4.4465 H             1 RES     \\n      18 H           -2.4354    -2.3118     5.1803 H             1 RES     \\n      19 H           -1.6528    -0.9554     4.4039 H             1 RES     \\n      20 C           -1.4550    -3.3253     2.9165 C             1 RES     \\n      21 H           -2.2479    -3.6940     3.5332 H             1 RES     \\n      22 H           -0.5771    -3.9173     3.0719 H             1 RES     \\n      23 H           -1.7465    -3.3827     1.8879 H             1 RES     \\n      24 C           -2.9079    -1.9850     2.7155 C             1 RES     \\n      25 H           -3.2608    -1.7030     3.7185 H             1 RES     \\n      26 H           -2.5550    -2.2670     1.7125 H             1 RES     \\n      27 C           -4.1895    -1.7569     2.2004 C             1 RES     \\n      28 H           -4.5424    -1.4749     3.2034 H             1 RES     \\n      29 H           -3.8366    -2.0389     1.1975 H             1 RES     \\n      30 C           -5.3819    -1.5447     1.7213 C             1 RES     \\n      31 O           -5.7409    -1.6508     0.3465 O             1 RES     \\n      32 O           -6.4633    -0.9466     2.4277 O             1 RES     \\n@<TRIPOS>BOND\\n       1        1        2 1\\n       2        1        5 1\\n       3        1        9 1\\n       4        2        3 1\\n       5        2        4 1\\n       6        5        6 1\\n       7        5        7 1\\n       8        5        8 1\\n       9        9       10 1\\n      10        9       11 1\\n      11       11       12 1\\n      12       12       13 1\\n      13       12       14 1\\n      14       12       15 1\\n      15       15       16 1\\n      16       15       20 1\\n      17       15       24 1\\n      18       16       17 1\\n      19       16       18 1\\n      20       16       19 1\\n      21       20       21 1\\n      22       20       22 1\\n      23       20       23 1\\n      24       24       25 1\\n      25       24       26 1\\n      26       24       27 1\\n      27       27       28 1\\n      28       27       29 1\\n      29       27       30 1\\n      30       30       31 1\\n      31       30       32 1\\n@<TRIPOS>SUBSTRUCTURE\\n       1 RES             1 RESIDUE    0 **** ROOT      0\\n\",\"mol2\");\n",
       "\tviewer_1732056197545692.setStyle({\"stick\": {\"radius\": 0.18, \"color\": \"grey\"}, \"sphere\": {\"scale\": 0.3, \"colorscheme\": {}}});\n",
       "\tviewer_1732056197545692.zoomTo();\n",
       "viewer_1732056197545692.render();\n",
       "});\n",
       "</script>"
      ]
     },
     "metadata": {},
     "output_type": "display_data"
    },
    {
     "data": {
      "text/plain": [
       "<py3Dmol.view at 0x1320adc10>"
      ]
     },
     "execution_count": 4,
     "metadata": {},
     "output_type": "execute_result"
    }
   ],
   "source": [
    "cbma = Cbma(spacer_backbone=1, spacer_ion=2)\n",
    "cbma.visualize(show_ports=True)"
   ]
  },
  {
   "cell_type": "code",
   "execution_count": 5,
   "id": "323b612a",
   "metadata": {},
   "outputs": [
    {
     "name": "stderr",
     "output_type": "stream",
     "text": [
      "/Users/jac16/bin/mbuild/mbuild/compound.py:553: UserWarning: Some particle of <Sbaa 40 particles, 39 bonds, non-periodic, id: 5135021776> does not have a charge.They will not be accounted for during this calculation.\n",
      "  warn(\n"
     ]
    },
    {
     "data": {
      "application/3dmoljs_load.v0": "<div id=\"3dmolviewer_1732056197801627\"  style=\"position: relative; width: 640px; height: 480px;\">\n        <p id=\"3dmolwarning_1732056197801627\" style=\"background-color:#ffcccc;color:black\">3Dmol.js failed to load for some reason.  Please check your browser console for error messages.<br></p>\n        </div>\n<script>\n\nvar loadScriptAsync = function(uri){\n  return new Promise((resolve, reject) => {\n    //this is to ignore the existence of requirejs amd\n    var savedexports, savedmodule;\n    if (typeof exports !== 'undefined') savedexports = exports;\n    else exports = {}\n    if (typeof module !== 'undefined') savedmodule = module;\n    else module = {}\n\n    var tag = document.createElement('script');\n    tag.src = uri;\n    tag.async = true;\n    tag.onload = () => {\n        exports = savedexports;\n        module = savedmodule;\n        resolve();\n    };\n  var firstScriptTag = document.getElementsByTagName('script')[0];\n  firstScriptTag.parentNode.insertBefore(tag, firstScriptTag);\n});\n};\n\nif(typeof $3Dmolpromise === 'undefined') {\n$3Dmolpromise = null;\n  $3Dmolpromise = loadScriptAsync('https://cdnjs.cloudflare.com/ajax/libs/3Dmol/2.4.2/3Dmol-min.js');\n}\n\nvar viewer_1732056197801627 = null;\nvar warn = document.getElementById(\"3dmolwarning_1732056197801627\");\nif(warn) {\n    warn.parentNode.removeChild(warn);\n}\n$3Dmolpromise.then(function() {\nviewer_1732056197801627 = $3Dmol.createViewer(document.getElementById(\"3dmolviewer_1732056197801627\"),{backgroundColor:\"white\"});\nviewer_1732056197801627.zoomTo();\n\tviewer_1732056197801627.addModel(\"@<TRIPOS>MOLECULE\\nRES\\n40 39 1 0 1\\nSMALL\\nNO_CHARGES\\n@<TRIPOS>CRYSIN\\n   15.4358    11.9874    12.9510    90.0000    90.0000    90.0000 1 1\\n@<TRIPOS>ATOM\\n       1 C            0.0000     0.0000     0.0000 C             1 RES     \\n       2 C            1.2104    -0.1236    -0.0047 C             1 RES     \\n       3 H            1.0986    -1.2179     0.0000 H             1 RES     \\n       4 H            1.3221     0.9707    -0.0094 H             1 RES     \\n       5 H           -0.4370    -0.2556    -1.1060 H             1 RES     \\n       6 C           -0.4828    -0.7654     0.8136 C             1 RES     \\n       7 O           -1.8162    -1.3059     0.4061 O             1 RES     \\n       8 N           -0.0642    -0.7297     2.1275 N             1 RES     \\n       9 H           -0.1849     0.2058     2.5148 H             1 RES     \\n      10 C           -0.9063    -1.6821     2.8294 C             1 RES     \\n      11 H           -0.4200    -1.4126     3.7785 H             1 RES     \\n      12 H           -1.3927    -1.9516     1.8803 H             1 RES     \\n      13 C           -1.7182    -2.6002     3.5061 C             1 RES     \\n      14 H           -1.2319    -2.3307     4.4552 H             1 RES     \\n      15 H           -2.2045    -2.8697     2.5570 H             1 RES     \\n      16 C           -2.5301    -3.5184     4.1828 C             1 RES     \\n      17 H           -2.0437    -3.2488     5.1319 H             1 RES     \\n      18 H           -3.0164    -3.7879     3.2336 H             1 RES     \\n      19 N           -3.2354    -4.3160     4.7707 N             1 RES     \\n      20 C           -3.1195    -4.1512     5.9706 C             1 RES     \\n      21 H           -2.1605    -4.6251     5.9430 H             1 RES     \\n      22 H           -3.6491    -4.4675     6.8450 H             1 RES     \\n      23 H           -2.9918    -3.0885     5.9957 H             1 RES     \\n      24 C           -2.8951    -5.4480     4.4821 C             1 RES     \\n      25 H           -3.6060    -5.8395     5.1794 H             1 RES     \\n      26 H           -1.9902    -6.0167     4.5375 H             1 RES     \\n      27 H           -3.2955    -5.5103     3.4911 H             1 RES     \\n      28 C           -4.3961    -4.1465     4.4483 C             1 RES     \\n      29 H           -4.6447    -3.8769     5.4854 H             1 RES     \\n      30 H           -4.1474    -4.4162     3.4113 H             1 RES     \\n      31 C           -5.7318    -3.9514     4.0773 C             1 RES     \\n      32 H           -5.9805    -3.6818     5.1144 H             1 RES     \\n      33 H           -5.4832    -4.2211     3.0403 H             1 RES     \\n      34 C           -7.0676    -3.7564     3.7063 C             1 RES     \\n      35 H           -7.3163    -3.4867     4.7433 H             1 RES     \\n      36 H           -6.8189    -4.0260     2.6692 H             1 RES     \\n      37 S           -8.3837    -3.5641     3.3408 S             1 RES     \\n      38 O           -9.1136    -3.2129     4.5273 O             1 RES     \\n      39 O           -8.7883    -4.7054     2.5699 O             1 RES     \\n      40 O           -8.3659    -2.2997     2.3807 O             1 RES     \\n@<TRIPOS>BOND\\n       1        1        2 1\\n       2        1        5 1\\n       3        1        6 1\\n       4        2        3 1\\n       5        2        4 1\\n       6        6        7 1\\n       7        6        8 1\\n       8        8        9 1\\n       9        8       10 1\\n      10       10       11 1\\n      11       10       12 1\\n      12       10       13 1\\n      13       13       14 1\\n      14       13       15 1\\n      15       13       16 1\\n      16       16       17 1\\n      17       16       18 1\\n      18       16       19 1\\n      19       19       20 1\\n      20       19       24 1\\n      21       19       28 1\\n      22       20       21 1\\n      23       20       22 1\\n      24       20       23 1\\n      25       24       25 1\\n      26       24       26 1\\n      27       24       27 1\\n      28       28       29 1\\n      29       28       30 1\\n      30       28       31 1\\n      31       31       32 1\\n      32       31       33 1\\n      33       31       34 1\\n      34       34       35 1\\n      35       34       36 1\\n      36       34       37 1\\n      37       37       38 1\\n      38       37       39 1\\n      39       37       40 1\\n@<TRIPOS>SUBSTRUCTURE\\n       1 RES             1 RESIDUE    0 **** ROOT      0\\n\",\"mol2\");\n\tviewer_1732056197801627.setStyle({\"stick\": {\"radius\": 0.18, \"color\": \"grey\"}, \"sphere\": {\"scale\": 0.3, \"colorscheme\": {}}});\n\tviewer_1732056197801627.zoomTo();\nviewer_1732056197801627.render();\n});\n</script>",
      "text/html": [
       "<div id=\"3dmolviewer_1732056197801627\"  style=\"position: relative; width: 640px; height: 480px;\">\n",
       "        <p id=\"3dmolwarning_1732056197801627\" style=\"background-color:#ffcccc;color:black\">3Dmol.js failed to load for some reason.  Please check your browser console for error messages.<br></p>\n",
       "        </div>\n",
       "<script>\n",
       "\n",
       "var loadScriptAsync = function(uri){\n",
       "  return new Promise((resolve, reject) => {\n",
       "    //this is to ignore the existence of requirejs amd\n",
       "    var savedexports, savedmodule;\n",
       "    if (typeof exports !== 'undefined') savedexports = exports;\n",
       "    else exports = {}\n",
       "    if (typeof module !== 'undefined') savedmodule = module;\n",
       "    else module = {}\n",
       "\n",
       "    var tag = document.createElement('script');\n",
       "    tag.src = uri;\n",
       "    tag.async = true;\n",
       "    tag.onload = () => {\n",
       "        exports = savedexports;\n",
       "        module = savedmodule;\n",
       "        resolve();\n",
       "    };\n",
       "  var firstScriptTag = document.getElementsByTagName('script')[0];\n",
       "  firstScriptTag.parentNode.insertBefore(tag, firstScriptTag);\n",
       "});\n",
       "};\n",
       "\n",
       "if(typeof $3Dmolpromise === 'undefined') {\n",
       "$3Dmolpromise = null;\n",
       "  $3Dmolpromise = loadScriptAsync('https://cdnjs.cloudflare.com/ajax/libs/3Dmol/2.4.2/3Dmol-min.js');\n",
       "}\n",
       "\n",
       "var viewer_1732056197801627 = null;\n",
       "var warn = document.getElementById(\"3dmolwarning_1732056197801627\");\n",
       "if(warn) {\n",
       "    warn.parentNode.removeChild(warn);\n",
       "}\n",
       "$3Dmolpromise.then(function() {\n",
       "viewer_1732056197801627 = $3Dmol.createViewer(document.getElementById(\"3dmolviewer_1732056197801627\"),{backgroundColor:\"white\"});\n",
       "viewer_1732056197801627.zoomTo();\n",
       "\tviewer_1732056197801627.addModel(\"@<TRIPOS>MOLECULE\\nRES\\n40 39 1 0 1\\nSMALL\\nNO_CHARGES\\n@<TRIPOS>CRYSIN\\n   15.4358    11.9874    12.9510    90.0000    90.0000    90.0000 1 1\\n@<TRIPOS>ATOM\\n       1 C            0.0000     0.0000     0.0000 C             1 RES     \\n       2 C            1.2104    -0.1236    -0.0047 C             1 RES     \\n       3 H            1.0986    -1.2179     0.0000 H             1 RES     \\n       4 H            1.3221     0.9707    -0.0094 H             1 RES     \\n       5 H           -0.4370    -0.2556    -1.1060 H             1 RES     \\n       6 C           -0.4828    -0.7654     0.8136 C             1 RES     \\n       7 O           -1.8162    -1.3059     0.4061 O             1 RES     \\n       8 N           -0.0642    -0.7297     2.1275 N             1 RES     \\n       9 H           -0.1849     0.2058     2.5148 H             1 RES     \\n      10 C           -0.9063    -1.6821     2.8294 C             1 RES     \\n      11 H           -0.4200    -1.4126     3.7785 H             1 RES     \\n      12 H           -1.3927    -1.9516     1.8803 H             1 RES     \\n      13 C           -1.7182    -2.6002     3.5061 C             1 RES     \\n      14 H           -1.2319    -2.3307     4.4552 H             1 RES     \\n      15 H           -2.2045    -2.8697     2.5570 H             1 RES     \\n      16 C           -2.5301    -3.5184     4.1828 C             1 RES     \\n      17 H           -2.0437    -3.2488     5.1319 H             1 RES     \\n      18 H           -3.0164    -3.7879     3.2336 H             1 RES     \\n      19 N           -3.2354    -4.3160     4.7707 N             1 RES     \\n      20 C           -3.1195    -4.1512     5.9706 C             1 RES     \\n      21 H           -2.1605    -4.6251     5.9430 H             1 RES     \\n      22 H           -3.6491    -4.4675     6.8450 H             1 RES     \\n      23 H           -2.9918    -3.0885     5.9957 H             1 RES     \\n      24 C           -2.8951    -5.4480     4.4821 C             1 RES     \\n      25 H           -3.6060    -5.8395     5.1794 H             1 RES     \\n      26 H           -1.9902    -6.0167     4.5375 H             1 RES     \\n      27 H           -3.2955    -5.5103     3.4911 H             1 RES     \\n      28 C           -4.3961    -4.1465     4.4483 C             1 RES     \\n      29 H           -4.6447    -3.8769     5.4854 H             1 RES     \\n      30 H           -4.1474    -4.4162     3.4113 H             1 RES     \\n      31 C           -5.7318    -3.9514     4.0773 C             1 RES     \\n      32 H           -5.9805    -3.6818     5.1144 H             1 RES     \\n      33 H           -5.4832    -4.2211     3.0403 H             1 RES     \\n      34 C           -7.0676    -3.7564     3.7063 C             1 RES     \\n      35 H           -7.3163    -3.4867     4.7433 H             1 RES     \\n      36 H           -6.8189    -4.0260     2.6692 H             1 RES     \\n      37 S           -8.3837    -3.5641     3.3408 S             1 RES     \\n      38 O           -9.1136    -3.2129     4.5273 O             1 RES     \\n      39 O           -8.7883    -4.7054     2.5699 O             1 RES     \\n      40 O           -8.3659    -2.2997     2.3807 O             1 RES     \\n@<TRIPOS>BOND\\n       1        1        2 1\\n       2        1        5 1\\n       3        1        6 1\\n       4        2        3 1\\n       5        2        4 1\\n       6        6        7 1\\n       7        6        8 1\\n       8        8        9 1\\n       9        8       10 1\\n      10       10       11 1\\n      11       10       12 1\\n      12       10       13 1\\n      13       13       14 1\\n      14       13       15 1\\n      15       13       16 1\\n      16       16       17 1\\n      17       16       18 1\\n      18       16       19 1\\n      19       19       20 1\\n      20       19       24 1\\n      21       19       28 1\\n      22       20       21 1\\n      23       20       22 1\\n      24       20       23 1\\n      25       24       25 1\\n      26       24       26 1\\n      27       24       27 1\\n      28       28       29 1\\n      29       28       30 1\\n      30       28       31 1\\n      31       31       32 1\\n      32       31       33 1\\n      33       31       34 1\\n      34       34       35 1\\n      35       34       36 1\\n      36       34       37 1\\n      37       37       38 1\\n      38       37       39 1\\n      39       37       40 1\\n@<TRIPOS>SUBSTRUCTURE\\n       1 RES             1 RESIDUE    0 **** ROOT      0\\n\",\"mol2\");\n",
       "\tviewer_1732056197801627.setStyle({\"stick\": {\"radius\": 0.18, \"color\": \"grey\"}, \"sphere\": {\"scale\": 0.3, \"colorscheme\": {}}});\n",
       "\tviewer_1732056197801627.zoomTo();\n",
       "viewer_1732056197801627.render();\n",
       "});\n",
       "</script>"
      ]
     },
     "metadata": {},
     "output_type": "display_data"
    },
    {
     "data": {
      "text/plain": [
       "<py3Dmol.view at 0x131f94c90>"
      ]
     },
     "execution_count": 5,
     "metadata": {},
     "output_type": "execute_result"
    }
   ],
   "source": [
    "sbaa = Sbaa(spacer_backbone=3, spacer_ion=3, switch_backbone_chiral=False)\n",
    "sbaa.visualize(show_ports=True)"
   ]
  }
 ],
 "metadata": {
  "kernelspec": {
   "display_name": "Python 3",
   "language": "python",
   "name": "python3"
  },
  "language_info": {
   "codemirror_mode": {
    "name": "ipython",
    "version": 3
   },
   "file_extension": ".py",
   "mimetype": "text/x-python",
   "name": "python",
   "nbconvert_exporter": "python",
   "pygments_lexer": "ipython3",
   "version": "3.11.10"
  }
 },
 "nbformat": 4,
 "nbformat_minor": 5
}
